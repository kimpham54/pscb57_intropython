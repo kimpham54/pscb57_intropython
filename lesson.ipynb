{
 "cells": [
  {
   "cell_type": "code",
   "execution_count": 173,
   "metadata": {
    "collapsed": true,
    "scrolled": true
   },
   "outputs": [],
   "source": [
    "from IPython.display import Image"
   ]
  },
  {
   "cell_type": "markdown",
   "metadata": {},
   "source": [
    "# Introduction from UTSC Library\n",
    "\n",
    "Contact: \n",
    "* Kim Pham\n",
    "* Physics Liaison Librarian\n",
    "* [kim.pham@utoronto.ca](mailto:kim.pham@utoronto.ca)\n",
    "* [@tolloid](http://twitter.com/tolloid)\n",
    "\n",
    "![title](utsc.png)\n",
    "\n",
    "Hi all, i'm kim pham and i'm here to give you a primer on programming in python. Believe it or not, i'm a librarian, actually the physics librarian here at utsc, which might seem strange to you that i'm teaching you how to code. Personally, I am by no means an expert coder but I do get to code from time to time in my work.\n",
    "\n",
    "The library and the librarians including myself are available to help you with what you might think of as traditional library help such as finding research materials such as journal articles and books (both online or in print), we can show you how to use online databases, help to critically evaluate media and information sources. \n",
    "\n",
    "Now If I were to generalize our services further, we're available to help you develop the skills to understand data and information to perform tasks in digital environments.\n",
    "\n",
    "And so in this case, this includes teaching you how to code, because coding involves understanding how to use and manipulate data and then trying to automate the tasks of working with that data (see a definition of digital literacy, http://connect.ala.org/node/181197). So now that you know why I'm here, lets get started.\n",
    "\n",
    "\n",
    "# Programming in Python\n",
    "\n",
    "You can find programs everywhere. Every time you use a web browser, play a video game or use an app on your mobile device, and as you will get to try out when you're driving a car, you're using a program. Even your operating system, such as OSX, Linux or Windows is a program. And so, a program is just a set of instructions that is run or executed. \n",
    "\n",
    "Programs run on devices that are capable of processing code. This includes hardware, like a mobile device, or your laptop, or a tablet. But programs can also be run by other programs. This is what happens when you play a game in a web browser. Your web browser knows how to run programs written in a programming language called Javascript. \n",
    "\n",
    "So, Python is a programming language, one of many out there in the world.\n",
    "\n",
    "It's pretty popular too - examples of Python programs - used in Spotify (backend services and data analysis), Youtube, Instagram (web based version), Dropbox (99.9% underlying technology everywhere)\n",
    "\n",
    "In order to learn Python programs, you need to download a program that understands that language much like your browser understands Javascript.\n"
   ]
  },
  {
   "cell_type": "markdown",
   "metadata": {},
   "source": [
    "## Jupyter Notebook\n",
    "\n",
    "The program that we will be using to run Python programs is Jupyter Notebook. You should have it if you installed Anaconda, or you may have just installed Jupyter Notebook and Python.\n",
    "\n",
    "Jupyter is a live coding environment that lets you easily write and execute complex code. If you're opening it up for the first time, you can do it through the Anaconda console, or through the command line, by typing in ```jupyter notebook```. \n",
    "\n",
    "Does everyone have it loaded up and ready to go?\n",
    "\n",
    "**Notable features**\n",
    "\n",
    "Cell structure > Cell types > Edit & command mode, select multiple cells > Run cells (it's top down. kept in memory downstream, re-run if something changes in an upstream cell) > Toggle/clear running > Save > Revert > Export options > Insert/cut/paste > Move\n",
    "\n",
    "Jupyter supports python but also other languages as well (see its [kernels](https://github.com/jupyter/jupyter/wiki/Jupyter-kernels))."
   ]
  },
  {
   "cell_type": "markdown",
   "metadata": {},
   "source": [
    "## Python is a programming language\n",
    "\n",
    "A lot of the material in this tutorial goes through the logic of programming using Python. These concepts may already be familiar to you if you have experience with other programming languages. If not, you will be able to apply these principles widely when you encounter a new programming language.\n",
    "\n",
    "* Python is a general purpose programming language that supports rapid development of scripts and applications.\n",
    "* Open-source, meaning it's free to use and distribute, and build on\n",
    "* There are many python libraries and packages that people have created and contributed back to the Python developer community that make it a lot easier to build programs and pretty powerful ones too\n",
    "* Platform agnostic, does not require a specific operating system or software to use\n",
    "* Active, supportive community surrounding the usage of Python. You can find a lot of documentation, tutorials and help online\n",
    "\n",
    "Python is an intepreted programming language. This means that Python code is processed line by line and will run your tasks at the same time. This is different from compiled programming languages which require you to write code, then run a compiler, then run the compiled code to carry out your tasks.\n",
    "\n",
    "So if I type in:"
   ]
  },
  {
   "cell_type": "code",
   "execution_count": 174,
   "metadata": {
    "scrolled": true
   },
   "outputs": [
    {
     "data": {
      "text/plain": [
       "4"
      ]
     },
     "execution_count": 174,
     "metadata": {},
     "output_type": "execute_result"
    }
   ],
   "source": [
    "2 + 2"
   ]
  },
  {
   "cell_type": "code",
   "execution_count": 175,
   "metadata": {
    "scrolled": true
   },
   "outputs": [
    {
     "name": "stdout",
     "output_type": "stream",
     "text": [
      "Hello World!\n"
     ]
    }
   ],
   "source": [
    "print(\"Hello World!\")"
   ]
  },
  {
   "cell_type": "markdown",
   "metadata": {},
   "source": [
    "Python evaluates the instructions and you get to see the results instantly.\n",
    "\n",
    "As you saw in the first example, Python lets you use perform calculations. You can use **artihmetic operators** like +, -, \\*, /, \\** , %.\n",
    "\n",
    "Follow along! I will add spaces for readability."
   ]
  },
  {
   "cell_type": "code",
   "execution_count": 176,
   "metadata": {
    "scrolled": true
   },
   "outputs": [
    {
     "data": {
      "text/plain": [
       "6"
      ]
     },
     "execution_count": 176,
     "metadata": {},
     "output_type": "execute_result"
    }
   ],
   "source": [
    "4 + 2"
   ]
  },
  {
   "cell_type": "code",
   "execution_count": 177,
   "metadata": {
    "scrolled": true
   },
   "outputs": [
    {
     "data": {
      "text/plain": [
       "27"
      ]
     },
     "execution_count": 177,
     "metadata": {},
     "output_type": "execute_result"
    }
   ],
   "source": [
    "30 - 3"
   ]
  },
  {
   "cell_type": "code",
   "execution_count": 178,
   "metadata": {
    "scrolled": true
   },
   "outputs": [
    {
     "data": {
      "text/plain": [
       "36"
      ]
     },
     "execution_count": 178,
     "metadata": {},
     "output_type": "execute_result"
    }
   ],
   "source": [
    "4 * 9"
   ]
  },
  {
   "cell_type": "code",
   "execution_count": 179,
   "metadata": {
    "scrolled": true
   },
   "outputs": [
    {
     "data": {
      "text/plain": [
       "2.0"
      ]
     },
     "execution_count": 179,
     "metadata": {},
     "output_type": "execute_result"
    }
   ],
   "source": [
    "12 / 6"
   ]
  },
  {
   "cell_type": "markdown",
   "metadata": {},
   "source": [
    "Results have been **integers** thus far, but division operator gives you a decimal value. This is a **float** type, which is used to represent real numbers. There is also a division operator just for integers: "
   ]
  },
  {
   "cell_type": "code",
   "execution_count": 180,
   "metadata": {
    "scrolled": true
   },
   "outputs": [
    {
     "data": {
      "text/plain": [
       "2"
      ]
     },
     "execution_count": 180,
     "metadata": {},
     "output_type": "execute_result"
    }
   ],
   "source": [
    "12 // 6"
   ]
  },
  {
   "cell_type": "markdown",
   "metadata": {},
   "source": [
    "Integer division, which means it will give you an integer as result as opposed to a float. The % is a modulus operator, which divides by nearest integer and returns the remainder. What then is the result of the following:"
   ]
  },
  {
   "cell_type": "code",
   "execution_count": 181,
   "metadata": {
    "scrolled": true
   },
   "outputs": [
    {
     "data": {
      "text/plain": [
       "5"
      ]
     },
     "execution_count": 181,
     "metadata": {},
     "output_type": "execute_result"
    }
   ],
   "source": [
    "20 % 6 + 3"
   ]
  },
  {
   "cell_type": "markdown",
   "metadata": {},
   "source": [
    "We are now going to introduce another data type: **strings**. Strings are a combination of alphanumeric and symbol characters, and are defined either using a single or double quote. We use quotes because this is the syntax of Python, meaning it is the rules that specify which combinations of symbols are valid when programming in this language. Different programming languages can have variations in syntax to do the same thing, so be mindful of these variations when you're working with a new language."
   ]
  },
  {
   "cell_type": "code",
   "execution_count": 182,
   "metadata": {
    "scrolled": true
   },
   "outputs": [
    {
     "data": {
      "text/plain": [
       "'i am a string'"
      ]
     },
     "execution_count": 182,
     "metadata": {},
     "output_type": "execute_result"
    }
   ],
   "source": [
    "'i am a string'"
   ]
  },
  {
   "cell_type": "code",
   "execution_count": 183,
   "metadata": {
    "scrolled": true
   },
   "outputs": [
    {
     "data": {
      "text/plain": [
       "' fsjalk jsioa903u4309 ^$%#%&2 *'"
      ]
     },
     "execution_count": 183,
     "metadata": {},
     "output_type": "execute_result"
    }
   ],
   "source": [
    "\" fsjalk jsioa903u4309 ^$%#%&2 *\""
   ]
  },
  {
   "cell_type": "markdown",
   "metadata": {},
   "source": [
    "You can use certain operators on strings. What do you think this will do?"
   ]
  },
  {
   "cell_type": "code",
   "execution_count": 184,
   "metadata": {
    "scrolled": true
   },
   "outputs": [
    {
     "data": {
      "text/plain": [
       "'stringstring'"
      ]
     },
     "execution_count": 184,
     "metadata": {},
     "output_type": "execute_result"
    }
   ],
   "source": [
    "'string' + 'string'"
   ]
  },
  {
   "cell_type": "code",
   "execution_count": 185,
   "metadata": {
    "scrolled": true
   },
   "outputs": [
    {
     "data": {
      "text/plain": [
       "'stringstringstring'"
      ]
     },
     "execution_count": 185,
     "metadata": {},
     "output_type": "execute_result"
    }
   ],
   "source": [
    "'string'*3"
   ]
  },
  {
   "cell_type": "markdown",
   "metadata": {},
   "source": [
    "Strings are also indexed, meaning that Python stores the position of a character in a string so that you can access it. You can use square brackets [] to slice along the index to access a substring (part of the string). What do you expect as a result from the following:"
   ]
  },
  {
   "cell_type": "code",
   "execution_count": 186,
   "metadata": {
    "scrolled": true
   },
   "outputs": [
    {
     "data": {
      "text/plain": [
       "'t'"
      ]
     },
     "execution_count": 186,
     "metadata": {},
     "output_type": "execute_result"
    }
   ],
   "source": [
    "'string'[1]"
   ]
  },
  {
   "cell_type": "markdown",
   "metadata": {},
   "source": [
    "Why? The first item is at index 0. Many programming languages (Java, Javascript, PHP) start counting from 0 to indicate the first position, but this isn't always the case (MATLAB, Fortran, XPath/XQuery use index 1)."
   ]
  },
  {
   "cell_type": "markdown",
   "metadata": {},
   "source": [
    "Comparison operators: <, >, ==, !=, <=, >=\n",
    "\n",
    "Logic operators: and, or, not\n",
    "\n",
    "These operators return a true or false (boolean) result. "
   ]
  },
  {
   "cell_type": "code",
   "execution_count": 187,
   "metadata": {
    "scrolled": true
   },
   "outputs": [
    {
     "data": {
      "text/plain": [
       "True"
      ]
     },
     "execution_count": 187,
     "metadata": {},
     "output_type": "execute_result"
    }
   ],
   "source": [
    "30 > 5"
   ]
  },
  {
   "cell_type": "code",
   "execution_count": 188,
   "metadata": {
    "scrolled": true
   },
   "outputs": [
    {
     "data": {
      "text/plain": [
       "True"
      ]
     },
     "execution_count": 188,
     "metadata": {},
     "output_type": "execute_result"
    }
   ],
   "source": [
    "5 != 4"
   ]
  },
  {
   "cell_type": "markdown",
   "metadata": {},
   "source": [
    "What do you think will happen here:"
   ]
  },
  {
   "cell_type": "code",
   "execution_count": 189,
   "metadata": {
    "scrolled": true
   },
   "outputs": [
    {
     "data": {
      "text/plain": [
       "True"
      ]
     },
     "execution_count": 189,
     "metadata": {},
     "output_type": "execute_result"
    }
   ],
   "source": [
    "'3gh' == '3gh'"
   ]
  },
  {
   "cell_type": "markdown",
   "metadata": {},
   "source": [
    "What happens here?"
   ]
  },
  {
   "cell_type": "code",
   "execution_count": 190,
   "metadata": {
    "scrolled": true
   },
   "outputs": [
    {
     "data": {
      "text/plain": [
       "False"
      ]
     },
     "execution_count": 190,
     "metadata": {},
     "output_type": "execute_result"
    }
   ],
   "source": [
    "'3gh' == '4gh'"
   ]
  },
  {
   "cell_type": "markdown",
   "metadata": {},
   "source": [
    "Notice that we use the double equal sign ```==``` as a comparison to check equivalency. This is not the same thing as the single equal sign ```=```, which is the **assignment operator**.\n",
    "If you want to keep track of values, you can use the equal sign ```=``` to assign a variable. The variable is a named location that points to where a value is stored in memory."
   ]
  },
  {
   "cell_type": "code",
   "execution_count": 191,
   "metadata": {
    "collapsed": true,
    "scrolled": true
   },
   "outputs": [],
   "source": [
    "text = \"Scientific Computing\"\n",
    "number = 42\n",
    "pi_value = 3.1415"
   ]
  },
  {
   "cell_type": "markdown",
   "metadata": {},
   "source": [
    "Run that and these values are stored in memory. To recall the value, type its variable name"
   ]
  },
  {
   "cell_type": "code",
   "execution_count": 192,
   "metadata": {
    "scrolled": true
   },
   "outputs": [
    {
     "data": {
      "text/plain": [
       "3.1415"
      ]
     },
     "execution_count": 192,
     "metadata": {},
     "output_type": "execute_result"
    }
   ],
   "source": [
    "pi_value"
   ]
  },
  {
   "cell_type": "code",
   "execution_count": 193,
   "metadata": {
    "scrolled": true
   },
   "outputs": [
    {
     "data": {
      "text/plain": [
       "'Scientific Computing'"
      ]
     },
     "execution_count": 193,
     "metadata": {},
     "output_type": "execute_result"
    }
   ],
   "source": [
    "text"
   ]
  },
  {
   "cell_type": "markdown",
   "metadata": {},
   "source": [
    "You can also use print statements to display values. To create a print statement, you use Python's print() function. **Functions** are pieces of code that you can use and often reuse to perform specific tasks. Python has built in functions, such as print(), but you can also define and write your own and use them.\n",
    "\n",
    "Here is an example of using print() to print out the value of the variable:"
   ]
  },
  {
   "cell_type": "code",
   "execution_count": 194,
   "metadata": {
    "scrolled": true
   },
   "outputs": [
    {
     "name": "stdout",
     "output_type": "stream",
     "text": [
      "3.1415\n",
      "Scientific Computing\n",
      "42\n"
     ]
    }
   ],
   "source": [
    "print(pi_value)\n",
    "print(text)\n",
    "print(number)"
   ]
  },
  {
   "cell_type": "markdown",
   "metadata": {},
   "source": [
    "To use the function print(), you type in print and pass in an argument in the brackets. You can also use print() to pass in more than one argument, separated by commas:"
   ]
  },
  {
   "cell_type": "code",
   "execution_count": 195,
   "metadata": {
    "scrolled": true
   },
   "outputs": [
    {
     "name": "stdout",
     "output_type": "stream",
     "text": [
      "The value of pi_value is: 3.1415 \n",
      "My favourite number is 7 \n",
      "This is great\n"
     ]
    }
   ],
   "source": [
    "print(\"The value of pi_value is:\", pi_value, \"\\nMy favourite number is\", 3 + 4, \"\\nThis is great\")"
   ]
  },
  {
   "cell_type": "markdown",
   "metadata": {},
   "source": [
    "### Exercise 1\n",
    "\n",
    "    a = \"hello\"\n",
    "\n",
    "    b = \"world\"\n",
    "\n",
    "Print the following statement: \n",
    "\n",
    "    hello world!\n",
    "\n",
    "Make sure to declare your variables in code"
   ]
  },
  {
   "cell_type": "code",
   "execution_count": 196,
   "metadata": {
    "collapsed": true,
    "scrolled": true
   },
   "outputs": [],
   "source": [
    "a = \"hello\"\n",
    "b = \"world\""
   ]
  },
  {
   "cell_type": "code",
   "execution_count": 197,
   "metadata": {
    "scrolled": true
   },
   "outputs": [
    {
     "name": "stdout",
     "output_type": "stream",
     "text": [
      "hello world!\n"
     ]
    }
   ],
   "source": [
    "helloworld = a + \" \" + b + \"!\"\n",
    "print(helloworld)"
   ]
  },
  {
   "cell_type": "markdown",
   "metadata": {},
   "source": [
    "In addition to using Python's built in functions we can design our own. Here is an example of a function that we've defined:"
   ]
  },
  {
   "cell_type": "code",
   "execution_count": 198,
   "metadata": {
    "collapsed": true,
    "scrolled": true
   },
   "outputs": [],
   "source": [
    "def f(x):\n",
    "    return x ** 2"
   ]
  },
  {
   "cell_type": "markdown",
   "metadata": {},
   "source": [
    "Notice how when you begin to name the function, and hit enter and begin to define the function, it is automatically indented. Indentation is very imprtant in Python, it's Python's way of marking a block of code.\n",
    "\n",
    "**def** is a keyword indicating that you are defining a function\n",
    "\n",
    "**f** is the name of the function\n",
    "\n",
    "**x** is the parameter of the function, it's a variable where the value will be supplied when the function is called (or run)\n",
    "\n",
    "**:** indicates the function definition and next line will be the body of the function\n",
    "\n",
    "**return x \\*\\* 2** is a return statement. It indicates that you're exiting a function and passing back an expression to the caller. \n",
    "\n",
    "Note: return or print statements are not mandatory in functions.\n",
    "Note2: Function names are case sensitive.\n",
    "\n",
    "To call function f, we pass in an argument value. This is akin to an assignment statement, where x = 3.\n"
   ]
  },
  {
   "cell_type": "code",
   "execution_count": 199,
   "metadata": {
    "scrolled": true
   },
   "outputs": [
    {
     "data": {
      "text/plain": [
       "9"
      ]
     },
     "execution_count": 199,
     "metadata": {},
     "output_type": "execute_result"
    }
   ],
   "source": [
    "f(3)"
   ]
  },
  {
   "cell_type": "markdown",
   "metadata": {},
   "source": [
    "With a return statement, when the function exists after passing the parameter 3 into the function, the value is passed back to the caller."
   ]
  },
  {
   "cell_type": "code",
   "execution_count": 200,
   "metadata": {
    "scrolled": true
   },
   "outputs": [
    {
     "data": {
      "text/plain": [
       "13"
      ]
     },
     "execution_count": 200,
     "metadata": {},
     "output_type": "execute_result"
    }
   ],
   "source": [
    "4 + f(3)"
   ]
  },
  {
   "cell_type": "markdown",
   "metadata": {},
   "source": [
    "With print(), the result is merely printed or displayed on screen:"
   ]
  },
  {
   "cell_type": "code",
   "execution_count": 201,
   "metadata": {
    "collapsed": true,
    "scrolled": true
   },
   "outputs": [],
   "source": [
    "def f(x):\n",
    "    print (x ** 2)"
   ]
  },
  {
   "cell_type": "markdown",
   "metadata": {},
   "source": [
    "What do you think is the result?"
   ]
  },
  {
   "cell_type": "code",
   "execution_count": 202,
   "metadata": {
    "scrolled": true
   },
   "outputs": [
    {
     "name": "stdout",
     "output_type": "stream",
     "text": [
      "9\n"
     ]
    },
    {
     "ename": "TypeError",
     "evalue": "unsupported operand type(s) for +: 'int' and 'NoneType'",
     "output_type": "error",
     "traceback": [
      "\u001b[0;31m---------------------------------------------------------------------------\u001b[0m",
      "\u001b[0;31mTypeError\u001b[0m                                 Traceback (most recent call last)",
      "\u001b[0;32m<ipython-input-202-e1b72e78fbd8>\u001b[0m in \u001b[0;36m<module>\u001b[0;34m()\u001b[0m\n\u001b[0;32m----> 1\u001b[0;31m \u001b[0;36m4\u001b[0m \u001b[0;34m+\u001b[0m \u001b[0mf\u001b[0m\u001b[0;34m(\u001b[0m\u001b[0;36m3\u001b[0m\u001b[0;34m)\u001b[0m\u001b[0;34m\u001b[0m\u001b[0m\n\u001b[0m",
      "\u001b[0;31mTypeError\u001b[0m: unsupported operand type(s) for +: 'int' and 'NoneType'"
     ]
    }
   ],
   "source": [
    "4 + f(3)"
   ]
  },
  {
   "cell_type": "markdown",
   "metadata": {},
   "source": [
    "You get an error message. These messages are useful because they will give you clues as to what went wrong when you try to run your program and will help you debug your program. Traceback to show you where the error 'exception' happened, then the error name in this case TypeError"
   ]
  },
  {
   "cell_type": "markdown",
   "metadata": {},
   "source": [
    "### Exercise 2\n",
    "\n",
    "Create a function that calculates the area of a triangle and lets you input the base and the height. \n",
    "\n",
    "Remember that area = 1/2 base * height\n"
   ]
  },
  {
   "cell_type": "code",
   "execution_count": null,
   "metadata": {
    "scrolled": true
   },
   "outputs": [],
   "source": [
    "\"\"\"\n",
    "This function, called area_triangle, can be used to input parameters to calculate the area of a triangle.\n",
    "We use meaningful names for the function name and parameters. \n",
    "Example of a multi-line comment. Should provide brief context.\n",
    "\"\"\"\n",
    "def area_triangle(base,height): # Example of an inline comment. Should be short and concise.\n",
    "    area = 0.5*(base*height) \n",
    "    print(area)"
   ]
  },
  {
   "cell_type": "code",
   "execution_count": null,
   "metadata": {
    "scrolled": true
   },
   "outputs": [],
   "source": [
    "area_triangle(4,3)"
   ]
  },
  {
   "cell_type": "markdown",
   "metadata": {},
   "source": [
    "We just looked at some of Python's simple data types, operators, and functions in Python. Now we'll take a look at a few other data types that can be used to work with collections of data.\n",
    "\n",
    "**Lists** hold an ordered sequence of elements. The syntax for a list is to use an opening square bracket, comma-separated values, and a closing square bracket. Lists can hold different data types:"
   ]
  },
  {
   "cell_type": "code",
   "execution_count": null,
   "metadata": {
    "collapsed": true,
    "scrolled": false
   },
   "outputs": [],
   "source": [
    "my_list = ['one', 2, 'seven', 37.89, 2238.1, 'hungry', 'early']"
   ]
  },
  {
   "cell_type": "markdown",
   "metadata": {},
   "source": [
    "You can have lists of lists:"
   ]
  },
  {
   "cell_type": "code",
   "execution_count": null,
   "metadata": {
    "collapsed": true
   },
   "outputs": [],
   "source": [
    "sea_names = [['shark', 'octopus', 'squid', 'mantis shrimp'],['Sammy', 'Jesse', 'Drew', 'Jamie']]"
   ]
  },
  {
   "cell_type": "markdown",
   "metadata": {},
   "source": [
    "In this example, we are assigning the variable grades to a list."
   ]
  },
  {
   "cell_type": "code",
   "execution_count": null,
   "metadata": {
    "collapsed": true,
    "scrolled": true
   },
   "outputs": [],
   "source": [
    "grades = [70, 85, 90]"
   ]
  },
  {
   "cell_type": "markdown",
   "metadata": {},
   "source": [
    "Like strings, each element in a list can be accessed by an index. Think of the index as a value or item's place in the list. What do you think you will get here:"
   ]
  },
  {
   "cell_type": "code",
   "execution_count": null,
   "metadata": {
    "scrolled": true
   },
   "outputs": [],
   "source": [
    "grades[1]"
   ]
  },
  {
   "cell_type": "code",
   "execution_count": null,
   "metadata": {
    "scrolled": true
   },
   "outputs": [],
   "source": [
    "my_list[3:]"
   ]
  },
  {
   "cell_type": "markdown",
   "metadata": {},
   "source": [
    "Several of Python's built-in functions can be applied to lists, including:\n",
    "\n",
    "len(list): return the length of list.\n",
    "min(list): return the smallest element in list.\n",
    "max(list): return the largest element in list.\n",
    "sum(list): return the sum of elements of list (where list items must be numeric)."
   ]
  },
  {
   "cell_type": "markdown",
   "metadata": {},
   "source": [
    "Lists are **mutable**, which means that they can be modified. For instance, we can update an item in the list:"
   ]
  },
  {
   "cell_type": "code",
   "execution_count": null,
   "metadata": {
    "scrolled": true
   },
   "outputs": [],
   "source": [
    "my_list"
   ]
  },
  {
   "cell_type": "code",
   "execution_count": null,
   "metadata": {
    "collapsed": true,
    "scrolled": true
   },
   "outputs": [],
   "source": [
    "my_list[0] = '1'"
   ]
  },
  {
   "cell_type": "code",
   "execution_count": null,
   "metadata": {
    "scrolled": true
   },
   "outputs": [],
   "source": [
    "my_list"
   ]
  },
  {
   "cell_type": "markdown",
   "metadata": {},
   "source": [
    "Other operators you can use on lists: + (concatenate lists or add item to a list), *, +=, *=\n",
    "Remove an item from a list: del()"
   ]
  },
  {
   "cell_type": "markdown",
   "metadata": {},
   "source": [
    "# To be continued ... see you next Tuesday!\n",
    "\n",
    "Overview:\n",
    "\n",
    "* Recap: Lists\n",
    "* Conditional statements: for, if, while\n",
    "* More data types: Tuples, Dictionaries"
   ]
  },
  {
   "cell_type": "code",
   "execution_count": 203,
   "metadata": {},
   "outputs": [
    {
     "data": {
      "text/plain": [
       "[70, 85, 90]"
      ]
     },
     "execution_count": 203,
     "metadata": {},
     "output_type": "execute_result"
    }
   ],
   "source": [
    "grades"
   ]
  },
  {
   "cell_type": "markdown",
   "metadata": {},
   "source": [
    "\n",
    "We can also use Python's built-in functions for lists. These functions are called methods, because they are functions inside of an object, in this case a list object. To see a list of methods on an object, you can use the dir() function. Then for more information on how to use the method, use the help() function:"
   ]
  },
  {
   "cell_type": "code",
   "execution_count": 204,
   "metadata": {
    "scrolled": true
   },
   "outputs": [
    {
     "data": {
      "text/plain": [
       "['__add__',\n",
       " '__class__',\n",
       " '__contains__',\n",
       " '__delattr__',\n",
       " '__delitem__',\n",
       " '__dir__',\n",
       " '__doc__',\n",
       " '__eq__',\n",
       " '__format__',\n",
       " '__ge__',\n",
       " '__getattribute__',\n",
       " '__getitem__',\n",
       " '__gt__',\n",
       " '__hash__',\n",
       " '__iadd__',\n",
       " '__imul__',\n",
       " '__init__',\n",
       " '__iter__',\n",
       " '__le__',\n",
       " '__len__',\n",
       " '__lt__',\n",
       " '__mul__',\n",
       " '__ne__',\n",
       " '__new__',\n",
       " '__reduce__',\n",
       " '__reduce_ex__',\n",
       " '__repr__',\n",
       " '__reversed__',\n",
       " '__rmul__',\n",
       " '__setattr__',\n",
       " '__setitem__',\n",
       " '__sizeof__',\n",
       " '__str__',\n",
       " '__subclasshook__',\n",
       " 'append',\n",
       " 'clear',\n",
       " 'copy',\n",
       " 'count',\n",
       " 'extend',\n",
       " 'index',\n",
       " 'insert',\n",
       " 'pop',\n",
       " 'remove',\n",
       " 'reverse',\n",
       " 'sort']"
      ]
     },
     "execution_count": 204,
     "metadata": {},
     "output_type": "execute_result"
    }
   ],
   "source": [
    "dir(grades)"
   ]
  },
  {
   "cell_type": "code",
   "execution_count": 205,
   "metadata": {
    "scrolled": true
   },
   "outputs": [
    {
     "name": "stdout",
     "output_type": "stream",
     "text": [
      "Help on built-in function insert:\n",
      "\n",
      "insert(...) method of builtins.list instance\n",
      "    L.insert(index, object) -- insert object before index\n",
      "\n"
     ]
    }
   ],
   "source": [
    "help(grades.insert)"
   ]
  },
  {
   "cell_type": "code",
   "execution_count": 206,
   "metadata": {
    "scrolled": true
   },
   "outputs": [
    {
     "data": {
      "text/plain": [
       "[80, 70, 85, 90]"
      ]
     },
     "execution_count": 206,
     "metadata": {},
     "output_type": "execute_result"
    }
   ],
   "source": [
    "grades.insert(0,80)\n",
    "grades"
   ]
  },
  {
   "cell_type": "markdown",
   "metadata": {},
   "source": [
    "### Exercise 3\n",
    "\n",
    "Your list grades currently looks like: \n",
    "\n",
    "    [80, 70 85, 90]\n",
    "\n",
    "Try and get your list to look like this:\n",
    "\n",
    "    [70, 80, 90]\n",
    "\n",
    "Hint: You will need to use two list methods"
   ]
  },
  {
   "cell_type": "code",
   "execution_count": 207,
   "metadata": {
    "scrolled": true
   },
   "outputs": [
    {
     "data": {
      "text/plain": [
       "[80, 70, 85, 90]"
      ]
     },
     "execution_count": 207,
     "metadata": {},
     "output_type": "execute_result"
    }
   ],
   "source": [
    "grades"
   ]
  },
  {
   "cell_type": "code",
   "execution_count": 208,
   "metadata": {
    "scrolled": true
   },
   "outputs": [
    {
     "data": {
      "text/plain": [
       "[70, 80, 90]"
      ]
     },
     "execution_count": 208,
     "metadata": {},
     "output_type": "execute_result"
    }
   ],
   "source": [
    "grades = [80, 70, 85, 90]\n",
    "grades.remove(85)\n",
    "grades.sort()\n",
    "grades"
   ]
  },
  {
   "cell_type": "markdown",
   "metadata": {},
   "source": [
    "You can use **for** loops to list through items as well. Loops allow us to repeat a workflow (or series of actions) a given number of times or while some condition is true. We could use a loop to automatically process data that’s stored in multiple files (daily values with one file per year, for example). Loops lighten our work load by performing repeated tasks without our direct involvement and make it less likely that we’ll introduce errors by making mistakes while processing each file by hand. \n",
    "\n",
    "The line defining the loop must start with for and end with a colon, and the body of the loop must be indented."
   ]
  },
  {
   "cell_type": "code",
   "execution_count": 209,
   "metadata": {},
   "outputs": [
    {
     "name": "stdout",
     "output_type": "stream",
     "text": [
      "70\n",
      "80\n",
      "90\n"
     ]
    }
   ],
   "source": [
    "for item in grades:\n",
    "    print(item)"
   ]
  },
  {
   "cell_type": "markdown",
   "metadata": {},
   "source": [
    "for - keyword indicating that you are using a for loop\n",
    "\n",
    "item - variable name used to represent an item in a sequence\n",
    "\n",
    "in - object you are iterating over, such as a string or list\n",
    "\n",
    "grades - the sequence. in this case, variable name for the list\n",
    "\n",
    "print(item) - body"
   ]
  },
  {
   "cell_type": "markdown",
   "metadata": {},
   "source": [
    "### Exercise 4\n",
    "\n",
    "    my_first_list = ['orange', 'kiwi']\n",
    "\n",
    "    my_second_list = ['apple', 'banana']\n",
    "\n",
    "Write a function that will add every item from my_first_list to my_second_list and will sort them alphabetically.\n"
   ]
  },
  {
   "cell_type": "code",
   "execution_count": 210,
   "metadata": {
    "collapsed": true
   },
   "outputs": [],
   "source": [
    "def new_list_magic(original_list, new_list):\n",
    "    for item in original_list:\n",
    "        new_list.append(item)\n",
    "        new_list.sort()\n",
    "    print(new_list)"
   ]
  },
  {
   "cell_type": "code",
   "execution_count": 211,
   "metadata": {},
   "outputs": [
    {
     "name": "stdout",
     "output_type": "stream",
     "text": [
      "['apple', 'banana', 'kiwi', 'orange']\n"
     ]
    }
   ],
   "source": [
    "my_first_list = ['orange', 'kiwi']\n",
    "my_second_list = ['apple', 'banana']\n",
    "new_list_magic(my_first_list, my_second_list)"
   ]
  },
  {
   "cell_type": "markdown",
   "metadata": {},
   "source": [
    "### For, If, and While are **Control Flow Statements**\n",
    "\n",
    "Your code is usually run top to bottom, in the order that they appear. Control flow statements, however, break up the flow of execution by controlling the order in which particular blocks of code will execute.\n",
    "\n",
    "This is done using function calls, decision-making (if) and looping (for, while) statements. Other control flow statements which will not be covered in this lesson include break, continue, pass.\n",
    "\n",
    "You've already seen for loops, which are useful when you want to process a sequence, or collection, such as a list.\n",
    "\n",
    "If statements, like for loops, allow you to control flow conditional loop.\n",
    "\n",
    "If statements are conditional statements. A program evaluates a condition and determines that if the condition is met (or is True), the code associated with the condition will run. If it does not meet the condition, either the program moves on to evaluate the next condition or it exits the if statement.\n",
    "\n",
    "To execute an **if** statement, evaluate each expression in order from top to bottom. If an expression produces True, execute the body of that clause and then skip the rest open the if statement."
   ]
  },
  {
   "cell_type": "code",
   "execution_count": 212,
   "metadata": {},
   "outputs": [
    {
     "name": "stdout",
     "output_type": "stream",
     "text": [
      "Passing grade\n"
     ]
    }
   ],
   "source": [
    "grade = 60\n",
    "\n",
    "if grade >= 60:\n",
    "    print(\"Passing grade\")"
   ]
  },
  {
   "cell_type": "markdown",
   "metadata": {},
   "source": [
    "What do you think will happen if ```grade = 50```?"
   ]
  },
  {
   "cell_type": "code",
   "execution_count": 213,
   "metadata": {
    "collapsed": true
   },
   "outputs": [],
   "source": [
    "grade = 50\n",
    "\n",
    "if grade >= 60:\n",
    "    print(\"Passing grade\")"
   ]
  },
  {
   "cell_type": "markdown",
   "metadata": {},
   "source": [
    "Use else\n",
    "If there is an ```else``` clause, and none of the expressions evaluate to ```True```, then execute the body of the ```else``` clause."
   ]
  },
  {
   "cell_type": "code",
   "execution_count": 214,
   "metadata": {},
   "outputs": [
    {
     "name": "stdout",
     "output_type": "stream",
     "text": [
      "Passing grade\n"
     ]
    }
   ],
   "source": [
    "grade = 70\n",
    "\n",
    "if grade >= 60:\n",
    "    print(\"Passing grade\")\n",
    "\n",
    "else:\n",
    "    print(\"Failing grade\")"
   ]
  },
  {
   "cell_type": "markdown",
   "metadata": {},
   "source": [
    "Use ```elif``` for additional conditions that you want to evaluate in order from top to bottom:"
   ]
  },
  {
   "cell_type": "code",
   "execution_count": 215,
   "metadata": {},
   "outputs": [
    {
     "name": "stdout",
     "output_type": "stream",
     "text": [
      "C grade\n"
     ]
    }
   ],
   "source": [
    "grade = 70\n",
    "\n",
    "if grade >= 90:\n",
    "    print(\"A grade\")\n",
    "\n",
    "elif grade >=80:\n",
    "    print(\"B grade\")\n",
    "\n",
    "elif grade >=70:\n",
    "    print(\"C grade\")\n",
    "\n",
    "elif grade >= 65:\n",
    "    print(\"D grade\")\n",
    "\n",
    "else:\n",
    "    print(\"Failing grade\")"
   ]
  },
  {
   "cell_type": "markdown",
   "metadata": {},
   "source": [
    "### Exercise 5\n",
    "\n",
    "For the following list:\n",
    "\n",
    "    wordlist = ['giraffe', 'baby', 'hippopotamus', 'french fries', 'salt pie', 'boom', 'soap']\n",
    "\n",
    "Check to see if the item starts with the letter s, t, or b. \n",
    "\n",
    "If the word starts with s or t, add it to a list called ```st_words.```\n",
    "\n",
    "If the word starts with b, add it to a list called ```b_words.```\n",
    "\n",
    "For all other words, indicate to the user that the word does not start with b, s, or t.\n",
    "\n",
    "Hint: You have to create an empty list for ```st_words``` and ```b_words```.\n",
    "\n",
    "Hint 2: Use ```dir()``` to find out what string functions you can use to write your conditions."
   ]
  },
  {
   "cell_type": "code",
   "execution_count": 216,
   "metadata": {},
   "outputs": [
    {
     "data": {
      "text/plain": [
       "['__add__',\n",
       " '__class__',\n",
       " '__contains__',\n",
       " '__delattr__',\n",
       " '__dir__',\n",
       " '__doc__',\n",
       " '__eq__',\n",
       " '__format__',\n",
       " '__ge__',\n",
       " '__getattribute__',\n",
       " '__getitem__',\n",
       " '__getnewargs__',\n",
       " '__gt__',\n",
       " '__hash__',\n",
       " '__init__',\n",
       " '__iter__',\n",
       " '__le__',\n",
       " '__len__',\n",
       " '__lt__',\n",
       " '__mod__',\n",
       " '__mul__',\n",
       " '__ne__',\n",
       " '__new__',\n",
       " '__reduce__',\n",
       " '__reduce_ex__',\n",
       " '__repr__',\n",
       " '__rmod__',\n",
       " '__rmul__',\n",
       " '__setattr__',\n",
       " '__sizeof__',\n",
       " '__str__',\n",
       " '__subclasshook__',\n",
       " 'capitalize',\n",
       " 'casefold',\n",
       " 'center',\n",
       " 'count',\n",
       " 'encode',\n",
       " 'endswith',\n",
       " 'expandtabs',\n",
       " 'find',\n",
       " 'format',\n",
       " 'format_map',\n",
       " 'index',\n",
       " 'isalnum',\n",
       " 'isalpha',\n",
       " 'isdecimal',\n",
       " 'isdigit',\n",
       " 'isidentifier',\n",
       " 'islower',\n",
       " 'isnumeric',\n",
       " 'isprintable',\n",
       " 'isspace',\n",
       " 'istitle',\n",
       " 'isupper',\n",
       " 'join',\n",
       " 'ljust',\n",
       " 'lower',\n",
       " 'lstrip',\n",
       " 'maketrans',\n",
       " 'partition',\n",
       " 'replace',\n",
       " 'rfind',\n",
       " 'rindex',\n",
       " 'rjust',\n",
       " 'rpartition',\n",
       " 'rsplit',\n",
       " 'rstrip',\n",
       " 'split',\n",
       " 'splitlines',\n",
       " 'startswith',\n",
       " 'strip',\n",
       " 'swapcase',\n",
       " 'title',\n",
       " 'translate',\n",
       " 'upper',\n",
       " 'zfill']"
      ]
     },
     "execution_count": 216,
     "metadata": {},
     "output_type": "execute_result"
    }
   ],
   "source": [
    "dir(str)"
   ]
  },
  {
   "cell_type": "code",
   "execution_count": 217,
   "metadata": {},
   "outputs": [
    {
     "name": "stdout",
     "output_type": "stream",
     "text": [
      "giraffe does not start with b, s, or t\n",
      "hippo does not start with b, s, or t\n",
      "french fries does not start with b, s, or t\n"
     ]
    }
   ],
   "source": [
    "wordlist = ['giraffe', 'baby', 'hippo', 'french fries', 'salt lick', 'boom', 'soap', \"trident\"]\n",
    "st_words = []\n",
    "b_words = []        \n",
    "        \n",
    "for item in wordlist:\n",
    "    if item.startswith('b'):\n",
    "        b_words.append(item)\n",
    "    elif item.startswith('s') or item.startswith('t'):\n",
    "        st_words.append(item)\n",
    "    else:\n",
    "        print(item, 'does not start with b, s, or t')"
   ]
  },
  {
   "cell_type": "code",
   "execution_count": 218,
   "metadata": {},
   "outputs": [
    {
     "data": {
      "text/plain": [
       "['salt lick', 'soap', 'trident']"
      ]
     },
     "execution_count": 218,
     "metadata": {},
     "output_type": "execute_result"
    }
   ],
   "source": [
    "st_words"
   ]
  },
  {
   "cell_type": "code",
   "execution_count": 219,
   "metadata": {},
   "outputs": [
    {
     "data": {
      "text/plain": [
       "['baby', 'boom']"
      ]
     },
     "execution_count": 219,
     "metadata": {},
     "output_type": "execute_result"
    }
   ],
   "source": [
    "b_words"
   ]
  },
  {
   "cell_type": "markdown",
   "metadata": {},
   "source": [
    "Another kind of loop you can use is called a **while** loop. While loops repeats a block of code so long as the while statement based on a condition evaluates to True.\n",
    "\n",
    "You can think of the while loop as a repeating conditional statement. After an if statement, the program continues to execute code, but in a while loop, the program jumps back to the start of the while statement until the condition is False.\n",
    "\n",
    "As opposed to for loops that execute a certain number of times, while loops are conditionally based, so you don’t need to know how many times to repeat the code going in."
   ]
  },
  {
   "cell_type": "code",
   "execution_count": 220,
   "metadata": {},
   "outputs": [
    {
     "name": "stdout",
     "output_type": "stream",
     "text": [
      "5\n",
      "4\n",
      "3\n",
      "2\n",
      "1\n"
     ]
    }
   ],
   "source": [
    "x = 5\n",
    "while x > 0:\n",
    "    print (x)\n",
    "    x = x - 1"
   ]
  },
  {
   "cell_type": "markdown",
   "metadata": {},
   "source": [
    "Python's while loops can also have an 'else' clause, which is a block of statements that is executed (once) when the while statement evaluates to false. The break statement inside the while loop will not direct the program flow to the else clause. For example:"
   ]
  },
  {
   "cell_type": "code",
   "execution_count": 221,
   "metadata": {},
   "outputs": [
    {
     "name": "stdout",
     "output_type": "stream",
     "text": [
      "5\n",
      "4\n",
      "3\n",
      "2\n",
      "1\n",
      "5\n"
     ]
    }
   ],
   "source": [
    "x = 5\n",
    "y = x\n",
    "while y > 0:\n",
    "    print (y)\n",
    "    y = y - 1\n",
    "else:\n",
    "    print (x)"
   ]
  },
  {
   "cell_type": "markdown",
   "metadata": {},
   "source": [
    "When do I use...\n",
    "\n",
    "**If**\n",
    "Use if when you don't need to loop over any blocks of code. Use it when only need to run your code once and you have have a set number of conditions to execute.\n",
    "\n",
    "**For**\n",
    "A for loop iterates over elements of a sequence. A sequence is an [iterable](https://docs.python.org/3/glossary.html#term-iterable) object, such as a list, tuple, dictionary, string, range. Use it when you know how long you want the loop to run.\n",
    "\n",
    "**While**\n",
    "The while statement loops until a condition is False. While loops are best used when you don't know exactly how many times you may have to loop through a condition - if you know exactly how many times you want to test a condition (e.g. 10), then you'd use a for loop instead."
   ]
  },
  {
   "cell_type": "markdown",
   "metadata": {},
   "source": [
    "A **tuple** is a data structure that is an immutable, or unchangeable, ordered sequence of elements. Tuples are similar to lists, except that they are **immutable**, meaning their values cannot be modified and items cannot be added or removed - this is the main difference from lists.  The syntax for a list is to use an open bracket, comma-separated values, and a closing bracket."
   ]
  },
  {
   "cell_type": "code",
   "execution_count": 234,
   "metadata": {
    "collapsed": true
   },
   "outputs": [],
   "source": [
    "rock_climbing = ('Moab', 'Salt Lake City', 'Boulder', 'Frisco')"
   ]
  },
  {
   "cell_type": "code",
   "execution_count": 235,
   "metadata": {},
   "outputs": [
    {
     "data": {
      "text/plain": [
       "'Boulder'"
      ]
     },
     "execution_count": 235,
     "metadata": {},
     "output_type": "execute_result"
    }
   ],
   "source": [
    "rock_climbing[2]"
   ]
  },
  {
   "cell_type": "markdown",
   "metadata": {},
   "source": [
    "When you use tuples in your code, you are conveying to others that you don’t intend for there to be changes to that sequence of values. Additionally, because the values do not change, your code can be optimized through the use of tuples in Python, as the code will be slightly faster for tuples than for lists.\n",
    "\n",
    "If we create a tuple and decide what we really need is a list, we can convert it to a list. To convert a tuple to a list, we can do so with ```list()```. Likewise, we can convert lists to tuples with ```tuple()```.\n",
    "\n",
    "The **dictionary** is Python’s built-in mapping type. Dictionaries map keys to values and these key-value pairs provide a useful way to store data in Python.\n",
    "\n",
    "Typically used to hold data that are related, such as the information contained in an ID or a user profile, dictionaries are constructed with curly braces on either side { }.\n"
   ]
  },
  {
   "cell_type": "code",
   "execution_count": 224,
   "metadata": {
    "collapsed": true
   },
   "outputs": [],
   "source": [
    "sammy = {'username': 'sammy-shark', 'online': True, 'followers': 987}"
   ]
  },
  {
   "cell_type": "code",
   "execution_count": 225,
   "metadata": {},
   "outputs": [
    {
     "data": {
      "text/plain": [
       "'sammy-shark'"
      ]
     },
     "execution_count": 225,
     "metadata": {},
     "output_type": "execute_result"
    }
   ],
   "source": [
    "sammy['username']"
   ]
  },
  {
   "cell_type": "code",
   "execution_count": 226,
   "metadata": {},
   "outputs": [],
   "source": [
    "sammy['last_name'] = 'Tompkins'"
   ]
  },
  {
   "cell_type": "code",
   "execution_count": 227,
   "metadata": {},
   "outputs": [
    {
     "data": {
      "text/plain": [
       "{'followers': 987,\n",
       " 'last_name': 'tompkins',\n",
       " 'online': True,\n",
       " 'username': 'sammy-shark'}"
      ]
     },
     "execution_count": 227,
     "metadata": {},
     "output_type": "execute_result"
    }
   ],
   "source": [
    "sammy"
   ]
  },
  {
   "cell_type": "markdown",
   "metadata": {},
   "source": [
    "### Exercise 6\n",
    "\n",
    "for each dictionary, if a key doesn't exist in the dictionary, add the key and add value \"needs to be filled\""
   ]
  },
  {
   "cell_type": "code",
   "execution_count": 228,
   "metadata": {
    "collapsed": true
   },
   "outputs": [],
   "source": [
    "thisismylist= [  \n",
    "              {'Name': 'Albert' , 'Age': 16},\n",
    "              {'Name': 'Suzy', 'Age': 17},\n",
    "              {'Name': 'Johnny', 'Age': 13}\n",
    "]"
   ]
  },
  {
   "cell_type": "code",
   "execution_count": 229,
   "metadata": {},
   "outputs": [],
   "source": [
    "girl = {'Age': 11, 'Name': 'Annie'}"
   ]
  },
  {
   "cell_type": "code",
   "execution_count": 230,
   "metadata": {
    "collapsed": true
   },
   "outputs": [],
   "source": [
    "thisismylist = thisismylist + [girl]"
   ]
  },
  {
   "cell_type": "code",
   "execution_count": 231,
   "metadata": {},
   "outputs": [
    {
     "data": {
      "text/plain": [
       "[{'Age': 16, 'Name': 'Albert'},\n",
       " {'Age': 17, 'Name': 'Suzy'},\n",
       " {'Age': 13, 'Name': 'Johnny'},\n",
       " {'Age': 11, 'Name': 'Annie'}]"
      ]
     },
     "execution_count": 231,
     "metadata": {},
     "output_type": "execute_result"
    }
   ],
   "source": [
    "thisismylist"
   ]
  },
  {
   "cell_type": "code",
   "execution_count": 232,
   "metadata": {},
   "outputs": [
    {
     "name": "stdout",
     "output_type": "stream",
     "text": [
      "Albert is not a child, they can be left unattended\n",
      "Suzy is not a child, they can be left unattended\n",
      "Johnny is not a child, they can be left unattended\n",
      "Annie is a child, they need to go to daycare\n"
     ]
    }
   ],
   "source": [
    "for dict in thisismylist:\n",
    "    if dict['Age'] < 13:\n",
    "        dict['Current Age Group'] = 'child'\n",
    "        print(dict['Name'], \"is a child, they need to go to daycare\")\n",
    "    else:\n",
    "        dict['Current Age Group'] = 'youth or older'\n",
    "        print(dict['Name'], \"is not a child, they can be left unattended\")"
   ]
  },
  {
   "cell_type": "code",
   "execution_count": 233,
   "metadata": {},
   "outputs": [
    {
     "data": {
      "text/plain": [
       "[{'Age': 16, 'Current Age Group': 'youth or older', 'Name': 'Albert'},\n",
       " {'Age': 17, 'Current Age Group': 'youth or older', 'Name': 'Suzy'},\n",
       " {'Age': 13, 'Current Age Group': 'youth or older', 'Name': 'Johnny'},\n",
       " {'Age': 11, 'Current Age Group': 'child', 'Name': 'Annie'}]"
      ]
     },
     "execution_count": 233,
     "metadata": {},
     "output_type": "execute_result"
    }
   ],
   "source": [
    "thisismylist"
   ]
  },
  {
   "cell_type": "markdown",
   "metadata": {
    "collapsed": true
   },
   "source": [
    "## Summary\n",
    "\n",
    "### Built-in data types\n",
    "\n",
    "#### Variable types\n",
    "\n",
    "Strings\n",
    "\n",
    "Integers\n",
    "\n",
    "Floats\n",
    "\n",
    "#### Sequential types\n",
    "\n",
    "Lists\n",
    "\n",
    "Tuples\n",
    "\n",
    "Dictionaries\n",
    "\n",
    "#### Operators\n",
    "\n",
    "Arithmetic\n",
    "\n",
    "Comparison\n",
    "\n",
    "Logic\n",
    "\n",
    "#### Conditionals\n",
    "\n",
    "If\n",
    "\n",
    "For loop\n",
    "\n",
    "While loop\n",
    "\n",
    "#### Functions\n",
    "\n",
    "Built-in functions\n",
    "\n",
    "Defining functions\n",
    "\n",
    "#### Syntax\n",
    "\n",
    "Lines and indentation\n",
    "\n",
    "help(object.method) to get help on how to use a method\n",
    "\n",
    "dir(object) to get methods (functions inside objects). e.g. if object was a string object\n",
    "\n",
    "Comments (use # or \"\"\"), Meaningful naming"
   ]
  }
 ],
 "metadata": {
  "kernelspec": {
   "display_name": "Python 3",
   "language": "python",
   "name": "python3"
  },
  "language_info": {
   "codemirror_mode": {
    "name": "ipython",
    "version": 3
   },
   "file_extension": ".py",
   "mimetype": "text/x-python",
   "name": "python",
   "nbconvert_exporter": "python",
   "pygments_lexer": "ipython3",
   "version": "3.5.1"
  }
 },
 "nbformat": 4,
 "nbformat_minor": 2
}
