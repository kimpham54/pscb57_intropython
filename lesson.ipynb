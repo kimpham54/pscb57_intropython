{
 "cells": [
  {
   "cell_type": "markdown",
   "metadata": {},
   "source": [
    "# Basics of Programming in Python\n",
    "\n",
    "A simple answer would be, “Programming is the act of instructing computers to carry out tasks.” It is often referred to as coding.\n",
    "So then, what is a computer program? A computer program is a sequence of instructions that the computer executes.\n",
    "Computer in the definition above is any device that is capable of processing code. This could be smartphones, ATMs, the Raspberry Pi, Servers to name a few.\n",
    "\n",
    "Programs are everywhere on your computer and on the internet. Every time you use a web browser, play a computer game or write a text message on your cell phone, you're using a program. Even your operating system, such as OS10, Linux or Windows is a program. A program is just a set of instructions. We say programs are run or executed. Program, such as your operating system, run on hardware, like a cell phone, or your laptop, or a tablet. But programs can also be run by other programs. This is what happens when you play a game in a web browser. Your web browser knows how to run programs written in a programming language called Java script. This webpage on wikipedia lists all the programming languages that anyone has ever bothered to enter here, and there are hundreds of them. You've probably heard of some of the programming languages. We've heard a lot of them but certainly nowhere near all of them and we doubt that anybody knows all the programming languages listed here. So, Python is a programming language, one of many. In order to learn Python programs, you need to download a program that understands that language much like your browser understands Javascript.\n",
    "\n",
    "What you have installed is Python and Jupyter/Anaconda. Jupyter Notebook\n",
    "\n",
    "\n",
    "\n",
    "## Python is a programming language\n",
    "* Python is a general purpose programming language that supports rapid development of scripts and applications.\n",
    "* Open source\n",
    "* Platform agnostic\n",
    "* Libraries\n",
    "* Active, supportive community\n",
    "* Python is an intepreted programming language. This means that Python code is processed line by line and is run at the same time. This is different from compiled programming languages."
   ]
  },
  {
   "cell_type": "code",
   "execution_count": 2,
   "metadata": {
    "collapsed": true
   },
   "outputs": [],
   "source": [
    "text = \"Scientific Computing\"\n",
    "number = 42\n",
    "pi_value = 3.1415"
   ]
  },
  {
   "cell_type": "code",
   "execution_count": 3,
   "metadata": {},
   "outputs": [
    {
     "data": {
      "text/plain": [
       "'Scientific Computing'"
      ]
     },
     "execution_count": 3,
     "metadata": {},
     "output_type": "execute_result"
    }
   ],
   "source": [
    "text"
   ]
  },
  {
   "cell_type": "code",
   "execution_count": 4,
   "metadata": {},
   "outputs": [
    {
     "data": {
      "text/plain": [
       "42"
      ]
     },
     "execution_count": 4,
     "metadata": {},
     "output_type": "execute_result"
    }
   ],
   "source": [
    "number"
   ]
  },
  {
   "cell_type": "markdown",
   "metadata": {
    "collapsed": true
   },
   "source": [
    "## Python 3 Syntax"
   ]
  },
  {
   "cell_type": "markdown",
   "metadata": {},
   "source": [
    "### Exercise 1\n",
    "\n"
   ]
  },
  {
   "cell_type": "markdown",
   "metadata": {},
   "source": [
    "### Exercise 2"
   ]
  },
  {
   "cell_type": "markdown",
   "metadata": {},
   "source": [
    "### Exercise 3"
   ]
  },
  {
   "cell_type": "markdown",
   "metadata": {},
   "source": [
    "### Exercise 4\n",
    "\n",
    "https://www.coursera.org/learn/learn-to-program/programming/qdDGH/assignment-1-time-zones"
   ]
  },
  {
   "cell_type": "markdown",
   "metadata": {},
   "source": [
    "### Exercise 5\n",
    "\n",
    "https://www.coursera.org/learn/learn-to-program/programming/IO1Gh/assignment-3"
   ]
  }
 ],
 "metadata": {
  "kernelspec": {
   "display_name": "Python 3",
   "language": "python",
   "name": "python3"
  },
  "language_info": {
   "codemirror_mode": {
    "name": "ipython",
    "version": 3
   },
   "file_extension": ".py",
   "mimetype": "text/x-python",
   "name": "python",
   "nbconvert_exporter": "python",
   "pygments_lexer": "ipython3",
   "version": "3.5.1"
  }
 },
 "nbformat": 4,
 "nbformat_minor": 2
}
