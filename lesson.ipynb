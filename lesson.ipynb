{
 "cells": [
  {
   "cell_type": "markdown",
   "metadata": {},
   "source": [
    "# Basics of Programming in Python\n",
    "\n",
    "A simple answer would be, “Programming is the act of instructing computers to carry out tasks.” It is often referred to as coding.\n",
    "So then, what is a computer program? A computer program is a sequence of instructions that the computer executes.\n",
    "Computer in the definition above is any device that is capable of processing code. This could be smartphones, ATMs, the Raspberry Pi, Servers to name a few.\n",
    "\n",
    "Programs are everywhere on your computer and on the internet. Every time you use a web browser, play a computer game or write a text message on your cell phone, you're using a program. Even your operating system, such as OS10, Linux or Windows is a program. A program is just a set of instructions. We say programs are run or executed. Program, such as your operating system, run on hardware, like a cell phone, or your laptop, or a tablet. But programs can also be run by other programs. This is what happens when you play a game in a web browser. Your web browser knows how to run programs written in a programming language called Java script. This webpage on wikipedia lists all the programming languages that anyone has ever bothered to enter here, and there are hundreds of them. You've probably heard of some of the programming languages. We've heard a lot of them but certainly nowhere near all of them and we doubt that anybody knows all the programming languages listed here. So, Python is a programming language, one of many. In order to learn Python programs, you need to download a program that understands that language much like your browser understands Javascript.\n",
    "\n",
    "A lot of the material in this tutorial goes through the logic of programming in the context of Python. They may be familiar to you already if you have experience with other programming languages. If not, you will be able to apply these principles widely when you encounter a new programming language.\n"
   ]
  },
  {
   "cell_type": "markdown",
   "metadata": {},
   "source": [
    "## Jupyter Notebook\n",
    "What we will be using is Jupyter Notebook. You should have it if you installed Anaconda, which also comes with Python or you may have just installed Jupyter Notebook and Python.\n"
   ]
  },
  {
   "cell_type": "markdown",
   "metadata": {},
   "source": [
    "## Python is a programming language\n",
    "\n",
    "* Python is a general purpose programming language that supports rapid development of scripts and applications.\n",
    "* Open source\n",
    "* Platform agnostic\n",
    "* Libraries\n",
    "* Active, supportive community\n",
    "* Python is an intepreted programming language. This means that Python code is processed line by line which will run your tasks at the same time. This is different from compiled programming languages which require you to write code, then run a compiler, then run the compiled code to carry out your tasks.\n",
    "\n",
    "So if I go into the terminal and type python\n",
    "Takes me into the python environment\n",
    "Type in "
   ]
  },
  {
   "cell_type": "code",
   "execution_count": null,
   "metadata": {},
   "outputs": [],
   "source": [
    "2 + 2"
   ]
  },
  {
   "cell_type": "code",
   "execution_count": null,
   "metadata": {},
   "outputs": [],
   "source": [
    "print(\"Hello World!\")"
   ]
  },
  {
   "cell_type": "markdown",
   "metadata": {},
   "source": [
    "Python evaluates the instructions and you get to see the results instantly.\n",
    "\n",
    "As you saw in the first example, Python lets you use perform calculations. You can use **artihmetic operators** like +, -, *, /, %."
   ]
  },
  {
   "cell_type": "code",
   "execution_count": null,
   "metadata": {},
   "outputs": [],
   "source": [
    "4 + 2"
   ]
  },
  {
   "cell_type": "code",
   "execution_count": null,
   "metadata": {},
   "outputs": [],
   "source": [
    "30 - 3"
   ]
  },
  {
   "cell_type": "code",
   "execution_count": null,
   "metadata": {},
   "outputs": [],
   "source": [
    "4 * 9"
   ]
  },
  {
   "cell_type": "code",
   "execution_count": null,
   "metadata": {},
   "outputs": [],
   "source": [
    "12 / 6"
   ]
  },
  {
   "cell_type": "markdown",
   "metadata": {},
   "source": [
    "Results are **integers** thus far, but division operator gives you a decimal value. This is a **float** type, which is used to represent real numbers. There is also a division operator just for integers: "
   ]
  },
  {
   "cell_type": "code",
   "execution_count": null,
   "metadata": {},
   "outputs": [],
   "source": [
    "12 // 6"
   ]
  },
  {
   "cell_type": "markdown",
   "metadata": {},
   "source": [
    "Integer division, which means it will give you an integer as result as opposed to a float."
   ]
  },
  {
   "cell_type": "code",
   "execution_count": null,
   "metadata": {},
   "outputs": [],
   "source": [
    "20 % 6 + 3"
   ]
  },
  {
   "cell_type": "markdown",
   "metadata": {},
   "source": [
    "We are now going to introduce another data type: **strings**. Strings are a combination of alphanumeric and symbol characters, and are defined either using a single or double quote. We use quotes because this is the syntax of Python, meaning it is the rules that specify which combinations of symbols are valid when programming in this language. Different programming languages can have variations in syntax to do the same thing, so be mindful of these variations when you're working with a new language."
   ]
  },
  {
   "cell_type": "code",
   "execution_count": null,
   "metadata": {},
   "outputs": [],
   "source": [
    "'i am a string'"
   ]
  },
  {
   "cell_type": "code",
   "execution_count": null,
   "metadata": {},
   "outputs": [],
   "source": [
    "\" fsjalk jsioa903u4309 ^$%#%&2 *\""
   ]
  },
  {
   "cell_type": "code",
   "execution_count": null,
   "metadata": {},
   "outputs": [],
   "source": [
    "'string' + 'string'"
   ]
  },
  {
   "cell_type": "markdown",
   "metadata": {},
   "source": [
    "Comparison operators: <, >, ==, !=, <=, >=\n",
    "\n",
    "Logic operators: and, or, not\n",
    "\n",
    "These operators return a true or false (boolean) result. "
   ]
  },
  {
   "cell_type": "code",
   "execution_count": null,
   "metadata": {},
   "outputs": [],
   "source": [
    "30 > 5"
   ]
  },
  {
   "cell_type": "code",
   "execution_count": null,
   "metadata": {},
   "outputs": [],
   "source": [
    "5 != 4"
   ]
  },
  {
   "cell_type": "markdown",
   "metadata": {},
   "source": [
    "What do you think will happen here:"
   ]
  },
  {
   "cell_type": "code",
   "execution_count": null,
   "metadata": {},
   "outputs": [],
   "source": [
    "'3gh' == '3gh'"
   ]
  },
  {
   "cell_type": "markdown",
   "metadata": {},
   "source": [
    "What happens here?"
   ]
  },
  {
   "cell_type": "code",
   "execution_count": null,
   "metadata": {},
   "outputs": [],
   "source": [
    "'3gh' == '4gh'"
   ]
  },
  {
   "cell_type": "markdown",
   "metadata": {},
   "source": [
    "Notice that we use the double equal sign ```==``` as a comparison to check equivalency. This is not the same thing as the single equal sign ```=```, which is the **assignment operator**.\n",
    "If you want to keep track of values, you can use the equal sign ```=``` to assign a variable that points to where a value is stored in memory."
   ]
  },
  {
   "cell_type": "code",
   "execution_count": null,
   "metadata": {
    "collapsed": true
   },
   "outputs": [],
   "source": [
    "text = \"Scientific Computing\"\n",
    "number = 42\n",
    "pi_value = 3.1415"
   ]
  },
  {
   "cell_type": "markdown",
   "metadata": {},
   "source": [
    "To recall the value, type its variable name"
   ]
  },
  {
   "cell_type": "code",
   "execution_count": null,
   "metadata": {},
   "outputs": [],
   "source": [
    "pi_value"
   ]
  },
  {
   "cell_type": "code",
   "execution_count": null,
   "metadata": {},
   "outputs": [],
   "source": [
    "text"
   ]
  },
  {
   "cell_type": "markdown",
   "metadata": {},
   "source": [
    "And you can use print statements. To create a print statement, you use Python's print() function. Functions are pieces of code that you can use and often reuse to perform specific tasks. Python has built in functions, such as print(), but you can also define and write your own and use them.\n",
    "\n",
    "Here is an example of using print() to print out the value of the variable:"
   ]
  },
  {
   "cell_type": "code",
   "execution_count": null,
   "metadata": {},
   "outputs": [],
   "source": [
    "print(pi_value)\n",
    "print(text)\n",
    "print(number)"
   ]
  },
  {
   "cell_type": "markdown",
   "metadata": {},
   "source": [
    "To use the function print(), you type in print and pass in an argument in the brackets. You can also use print() to pass in more than one argument, separated by commas:"
   ]
  },
  {
   "cell_type": "code",
   "execution_count": null,
   "metadata": {},
   "outputs": [],
   "source": [
    "print(\"The value of pi_value is:\", pi_value, \"\\nMy favourite number is\", 3 + 4, \"\\nThis is great\")"
   ]
  },
  {
   "cell_type": "markdown",
   "metadata": {},
   "source": [
    "### Exercise 1\n",
    "\n",
    "a = \"hello\"\n",
    "\n",
    "b = \"world\"\n",
    "\n",
    "Create the following statement: \n",
    "\n",
    "hello world!\n"
   ]
  },
  {
   "cell_type": "code",
   "execution_count": null,
   "metadata": {},
   "outputs": [],
   "source": [
    "a = \"hello\"\n",
    "b = \"world\"\n",
    "a + \" \" +  b + \"!\""
   ]
  },
  {
   "cell_type": "code",
   "execution_count": null,
   "metadata": {},
   "outputs": [],
   "source": [
    "helloworld = a + \" \" + b + \"!\"\n",
    "print(helloworld)"
   ]
  },
  {
   "cell_type": "markdown",
   "metadata": {},
   "source": [
    "We just looked at some of Python's simple data types, operators, and our first function in Python, print. Now we'll take a look at \n",
    "\n",
    "Lists\n",
    "\n",
    "Tuples\n",
    "\n",
    "Dictionaries"
   ]
  },
  {
   "cell_type": "markdown",
   "metadata": {},
   "source": [
    "## Python 3 Syntax\n",
    "\n",
    "print(\"i'm so happy!\")\n",
    "\n",
    "\n",
    "lines and intentation\n",
    "\n",
    "\n",
    "commenting\n",
    "\n",
    "help()\n",
    "\n",
    "### If statements\n",
    "\n",
    "if elif else\n",
    "for\n",
    "\n",
    "### Defining functions\n",
    "def do_function(parameter)\n",
    "do_function(4)"
   ]
  },
  {
   "cell_type": "code",
   "execution_count": null,
   "metadata": {},
   "outputs": [],
   "source": [
    "print(\"i'm so happy!\")"
   ]
  },
  {
   "cell_type": "code",
   "execution_count": null,
   "metadata": {},
   "outputs": [],
   "source": [
    "if 4>2:\n",
    "    print(\"looking good\")\n",
    "else:\n",
    "    print(\"uh oh\")"
   ]
  },
  {
   "cell_type": "code",
   "execution_count": null,
   "metadata": {},
   "outputs": [],
   "source": [
    "x=1\n",
    "y=2\n",
    "\n",
    "if x>y:\n",
    "    print(\"looking good\")\n",
    "else:\n",
    "    print(\"uh oh\")"
   ]
  },
  {
   "cell_type": "code",
   "execution_count": null,
   "metadata": {},
   "outputs": [],
   "source": [
    "# the x value has been changed\n",
    "x=4\n",
    "y=2\n",
    "\n",
    "if x>y:\n",
    "    print(\"looking good\") # if the x value is larger then everything is correct\n",
    "else:\n",
    "    print(\"uh oh\")"
   ]
  },
  {
   "cell_type": "code",
   "execution_count": null,
   "metadata": {},
   "outputs": [],
   "source": [
    "x=1\n",
    "y=2\n",
    "\n",
    "if x>y:\n",
    "    print(\"looking good\")\n",
    "else:\n",
    "    print(\"uh oh\")"
   ]
  },
  {
   "cell_type": "code",
   "execution_count": null,
   "metadata": {},
   "outputs": [],
   "source": [
    "2**16"
   ]
  },
  {
   "cell_type": "code",
   "execution_count": null,
   "metadata": {
    "collapsed": true
   },
   "outputs": [],
   "source": [
    "thing = \"thing2\""
   ]
  },
  {
   "cell_type": "code",
   "execution_count": null,
   "metadata": {
    "collapsed": true
   },
   "outputs": [],
   "source": [
    "thing1 = \"thing2\""
   ]
  },
  {
   "cell_type": "code",
   "execution_count": null,
   "metadata": {},
   "outputs": [],
   "source": [
    "thing == thing1"
   ]
  },
  {
   "cell_type": "code",
   "execution_count": null,
   "metadata": {
    "collapsed": true
   },
   "outputs": [],
   "source": [
    "thing2 = \"thing3\""
   ]
  },
  {
   "cell_type": "code",
   "execution_count": null,
   "metadata": {},
   "outputs": [],
   "source": [
    "thing1 == thing2"
   ]
  },
  {
   "cell_type": "code",
   "execution_count": null,
   "metadata": {},
   "outputs": [],
   "source": [
    "thing == thing1"
   ]
  },
  {
   "cell_type": "code",
   "execution_count": null,
   "metadata": {},
   "outputs": [],
   "source": [
    "thing + thing1"
   ]
  },
  {
   "cell_type": "markdown",
   "metadata": {},
   "source": []
  },
  {
   "cell_type": "markdown",
   "metadata": {},
   "source": []
  },
  {
   "cell_type": "markdown",
   "metadata": {},
   "source": []
  },
  {
   "cell_type": "markdown",
   "metadata": {},
   "source": []
  },
  {
   "cell_type": "markdown",
   "metadata": {},
   "source": [
    "### Exercise X\n",
    "\n",
    "Create a function that calculates the area of a triangle and lets you input the base and the height. Remember that \n",
    "area = 1/2 base * height\n",
    "\n"
   ]
  },
  {
   "cell_type": "code",
   "execution_count": 108,
   "metadata": {
    "collapsed": true
   },
   "outputs": [],
   "source": [
    "def area_triangle(base,height):\n",
    "    area = 0.5*(base*height)\n",
    "    print(area)"
   ]
  },
  {
   "cell_type": "code",
   "execution_count": 109,
   "metadata": {},
   "outputs": [
    {
     "name": "stdout",
     "output_type": "stream",
     "text": [
      "6.0\n"
     ]
    }
   ],
   "source": [
    "area_triangle(4,3)"
   ]
  },
  {
   "cell_type": "markdown",
   "metadata": {},
   "source": [
    "### Exercise 4\n",
    "\n",
    "https://www.coursera.org/learn/learn-to-program/programming/qdDGH/assignment-1-time-zones"
   ]
  },
  {
   "cell_type": "markdown",
   "metadata": {},
   "source": [
    "### Exercise 5\n",
    "\n",
    "https://www.coursera.org/learn/learn-to-program/programming/IO1Gh/assignment-3"
   ]
  },
  {
   "cell_type": "markdown",
   "metadata": {
    "collapsed": true
   },
   "source": [
    "## Summary\n",
    "\n",
    "### Built-in data types\n",
    "\n",
    "#### Variable types\n",
    "\n",
    "Strings\n",
    "\n",
    "Integers\n",
    "\n",
    "Floats\n",
    "\n",
    "#### Sequential types\n",
    "\n",
    "Lists\n",
    "\n",
    "Tuples\n",
    "\n",
    "Dictionaries\n",
    "\n",
    "#### Operators\n",
    "\n",
    "Arithmetic\n",
    "\n",
    "Comparison\n",
    "\n",
    "Logic\n",
    "\n",
    "#### Conditionals\n",
    "\n",
    "If statements\n",
    "\n",
    "For loops\n",
    "\n",
    "#### Functions\n",
    "\n",
    "print\n",
    "\n",
    "designing functions\n",
    "\n",
    "#### Syntax\n",
    "\n",
    "Comments\n",
    "\n",
    "Lines and indentation"
   ]
  }
 ],
 "metadata": {
  "kernelspec": {
   "display_name": "Python 3",
   "language": "python",
   "name": "python3"
  },
  "language_info": {
   "codemirror_mode": {
    "name": "ipython",
    "version": 3
   },
   "file_extension": ".py",
   "mimetype": "text/x-python",
   "name": "python",
   "nbconvert_exporter": "python",
   "pygments_lexer": "ipython3",
   "version": "3.6.2"
  }
 },
 "nbformat": 4,
 "nbformat_minor": 2
}
