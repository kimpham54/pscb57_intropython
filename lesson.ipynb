{
 "cells": [
  {
   "cell_type": "code",
   "execution_count": 136,
   "metadata": {
    "collapsed": true,
    "scrolled": true
   },
   "outputs": [],
   "source": [
    "from IPython.display import Image"
   ]
  },
  {
   "cell_type": "markdown",
   "metadata": {},
   "source": [
    "# Introduction from UTSC Library\n",
    "\n",
    "Contact: \n",
    "* Kim Pham\n",
    "* Physics Liaison Librarian\n",
    "* [kim.pham@utoronto.ca](mailto:kim.pham@utoronto.ca)\n",
    "* [@tolloid](http://twitter.com/tolloid)\n",
    "\n",
    "![title](utsc.png)\n",
    "\n",
    "Hi all, i'm kim pham and im' here to give you a primer on programming in python. believe it or not, i'm a librarian, actually the physics librarian here at utsc, which might seem strange to you that i'm teaching you how to code. Personally, I am by no means an expert coder but I do get to code from time to time in my work.\n",
    "\n",
    "The library and the librarians including myself are available to help you with what you might think of as traditional library help such as finding research materials such as journal articles and books (both online or in print), we can show you how to use online databases, help to critically evaluate media and information sources. \n",
    "\n",
    "Now If I were to generalize our services further, we're available to help you develop the skills to understand data and information to perform tasks in digital environments.\n",
    "\n",
    "And so in this case, this includes teaching you how to code, because coding involves understanding how to use and manipulate data and then trying to automate the tasks of working with that data (see a definition of digital literacy, http://connect.ala.org/node/181197). So now that you know why I'm here, lets get started.\n",
    "\n",
    "\n",
    "# Programming in Python\n",
    "\n",
    "You can find programs everywhere. Every time you use a web browser, play a video game or use an app on your mobile device, and as you will get to try out when you're driving a car, you're using a program. Even your operating system, such as OSX, Linux or Windows is a program. And so, a program is just a set of instructions that is run or executed. \n",
    "\n",
    "Programs run on devices that are capable of processing code. This includes hardware, like a mobile device, or your laptop, or a tablet. But programs can also be run by other programs. This is what happens when you play a game in a web browser. Your web browser knows how to run programs written in a programming language called Javascript. \n",
    "\n",
    "So, Python is a programming language, one of many out there in the world.\n",
    "\n",
    "It's pretty popular too - examples of Python programs - used in Spotify (backend services and data analysis), Youtube, Instagram (web based version), Dropbox (99.9% underlying technology everywhere)\n",
    "\n",
    "In order to learn Python programs, you need to download a program that understands that language much like your browser understands Javascript.\n"
   ]
  },
  {
   "cell_type": "markdown",
   "metadata": {},
   "source": [
    "## Jupyter Notebook\n",
    "\n",
    "The program that we will be using to run Python programs is Jupyter Notebook. You should have it if you installed Anaconda, or you may have just installed Jupyter Notebook and Python.\n",
    "\n",
    "Jupyter is a live coding environment that lets you easily write and execute complex code. If you're opening it up for the first time, you can do it through the Anaconda console, or through the command line, by typing in ```jupyter notebook```. \n",
    "\n",
    "Does everyone have it loaded up and ready to go?\n",
    "\n",
    "Notable features\n",
    "\n",
    "Cell structure > Cell types > Edit & command mode, select multiple cells > Run cells (it's top down. kept in memory downstream, re-run if something changes in an upstream cell) > Toggle/clear running > Save > Revert > Export options > Insert/cut/paste > Move\n",
    "\n",
    "Jupyter supports python but also other languages as well (see its kernels)"
   ]
  },
  {
   "cell_type": "markdown",
   "metadata": {},
   "source": [
    "## Python is a programming language\n",
    "\n",
    "A lot of the material in this tutorial goes through the logic of programming using Python. These concepts may already be familiar to you if you have experience with other programming languages. If not, you will be able to apply these principles widely when you encounter a new programming language.\n",
    "\n",
    "* Python is a general purpose programming language that supports rapid development of scripts and applications.\n",
    "* Open-source, meaning it's free to use and distribute, and build on\n",
    "* There are many python libraries and packages that people have created and contributed back to the Python developer community that make it a lot easier to build programs and pretty powerful ones too\n",
    "* Platform agnostic, does not require a specific operating system or software to use\n",
    "* Active, supportive community surrounding the usage of Python. You can find a lot of documentation, tutorials and help online\n",
    "\n",
    "Python is an intepreted programming language. This means that Python code is processed line by line and will run your tasks at the same time. This is different from compiled programming languages which require you to write code, then run a compiler, then run the compiled code to carry out your tasks.\n",
    "\n",
    "So if I type in:"
   ]
  },
  {
   "cell_type": "code",
   "execution_count": 137,
   "metadata": {
    "scrolled": true
   },
   "outputs": [
    {
     "data": {
      "text/plain": [
       "4"
      ]
     },
     "execution_count": 137,
     "metadata": {},
     "output_type": "execute_result"
    }
   ],
   "source": [
    "2 + 2"
   ]
  },
  {
   "cell_type": "code",
   "execution_count": 138,
   "metadata": {
    "scrolled": true
   },
   "outputs": [
    {
     "name": "stdout",
     "output_type": "stream",
     "text": [
      "Hello World!\n"
     ]
    }
   ],
   "source": [
    "print(\"Hello World!\")"
   ]
  },
  {
   "cell_type": "markdown",
   "metadata": {},
   "source": [
    "Python evaluates the instructions and you get to see the results instantly.\n",
    "\n",
    "As you saw in the first example, Python lets you use perform calculations. You can use **artihmetic operators** like +, -, \\*, /, \\** , %.\n",
    "\n",
    "Follow along! I will add spaces for readability."
   ]
  },
  {
   "cell_type": "code",
   "execution_count": 139,
   "metadata": {
    "scrolled": true
   },
   "outputs": [
    {
     "data": {
      "text/plain": [
       "6"
      ]
     },
     "execution_count": 139,
     "metadata": {},
     "output_type": "execute_result"
    }
   ],
   "source": [
    "4 + 2"
   ]
  },
  {
   "cell_type": "code",
   "execution_count": 140,
   "metadata": {
    "scrolled": true
   },
   "outputs": [
    {
     "data": {
      "text/plain": [
       "27"
      ]
     },
     "execution_count": 140,
     "metadata": {},
     "output_type": "execute_result"
    }
   ],
   "source": [
    "30 - 3"
   ]
  },
  {
   "cell_type": "code",
   "execution_count": 141,
   "metadata": {
    "scrolled": true
   },
   "outputs": [
    {
     "data": {
      "text/plain": [
       "36"
      ]
     },
     "execution_count": 141,
     "metadata": {},
     "output_type": "execute_result"
    }
   ],
   "source": [
    "4 * 9"
   ]
  },
  {
   "cell_type": "code",
   "execution_count": 142,
   "metadata": {
    "scrolled": true
   },
   "outputs": [
    {
     "data": {
      "text/plain": [
       "2.0"
      ]
     },
     "execution_count": 142,
     "metadata": {},
     "output_type": "execute_result"
    }
   ],
   "source": [
    "12 / 6"
   ]
  },
  {
   "cell_type": "markdown",
   "metadata": {},
   "source": [
    "Results have been **integers** thus far, but division operator gives you a decimal value. This is a **float** type, which is used to represent real numbers. There is also a division operator just for integers: "
   ]
  },
  {
   "cell_type": "code",
   "execution_count": 143,
   "metadata": {
    "scrolled": true
   },
   "outputs": [
    {
     "data": {
      "text/plain": [
       "2"
      ]
     },
     "execution_count": 143,
     "metadata": {},
     "output_type": "execute_result"
    }
   ],
   "source": [
    "12 // 6"
   ]
  },
  {
   "cell_type": "markdown",
   "metadata": {},
   "source": [
    "Integer division, which means it will give you an integer as result as opposed to a float. The % is a modulus operator, which divides by nearest integer and returns the remainder. What then is the result of the following:"
   ]
  },
  {
   "cell_type": "code",
   "execution_count": 144,
   "metadata": {
    "scrolled": true
   },
   "outputs": [
    {
     "data": {
      "text/plain": [
       "5"
      ]
     },
     "execution_count": 144,
     "metadata": {},
     "output_type": "execute_result"
    }
   ],
   "source": [
    "20 % 6 + 3"
   ]
  },
  {
   "cell_type": "markdown",
   "metadata": {},
   "source": [
    "We are now going to introduce another data type: **strings**. Strings are a combination of alphanumeric and symbol characters, and are defined either using a single or double quote. We use quotes because this is the syntax of Python, meaning it is the rules that specify which combinations of symbols are valid when programming in this language. Different programming languages can have variations in syntax to do the same thing, so be mindful of these variations when you're working with a new language."
   ]
  },
  {
   "cell_type": "code",
   "execution_count": 145,
   "metadata": {
    "scrolled": true
   },
   "outputs": [
    {
     "data": {
      "text/plain": [
       "'i am a string'"
      ]
     },
     "execution_count": 145,
     "metadata": {},
     "output_type": "execute_result"
    }
   ],
   "source": [
    "'i am a string'"
   ]
  },
  {
   "cell_type": "code",
   "execution_count": 146,
   "metadata": {
    "scrolled": true
   },
   "outputs": [
    {
     "data": {
      "text/plain": [
       "' fsjalk jsioa903u4309 ^$%#%&2 *'"
      ]
     },
     "execution_count": 146,
     "metadata": {},
     "output_type": "execute_result"
    }
   ],
   "source": [
    "\" fsjalk jsioa903u4309 ^$%#%&2 *\""
   ]
  },
  {
   "cell_type": "markdown",
   "metadata": {},
   "source": [
    "You can use certain operators on strings. What do you think this will do?"
   ]
  },
  {
   "cell_type": "code",
   "execution_count": 147,
   "metadata": {
    "scrolled": true
   },
   "outputs": [
    {
     "data": {
      "text/plain": [
       "'stringstring'"
      ]
     },
     "execution_count": 147,
     "metadata": {},
     "output_type": "execute_result"
    }
   ],
   "source": [
    "'string' + 'string'"
   ]
  },
  {
   "cell_type": "code",
   "execution_count": 148,
   "metadata": {
    "scrolled": true
   },
   "outputs": [
    {
     "data": {
      "text/plain": [
       "'stringstringstring'"
      ]
     },
     "execution_count": 148,
     "metadata": {},
     "output_type": "execute_result"
    }
   ],
   "source": [
    "'string'*3"
   ]
  },
  {
   "cell_type": "markdown",
   "metadata": {},
   "source": [
    "Strings are also indexed, meaning that Python stores the position of a character in a string so that you can access it. You can use square brackets [] to slice along the index to access a substring (part of the string). What do you expect as a result from the following:"
   ]
  },
  {
   "cell_type": "code",
   "execution_count": 149,
   "metadata": {
    "scrolled": true
   },
   "outputs": [
    {
     "data": {
      "text/plain": [
       "'t'"
      ]
     },
     "execution_count": 149,
     "metadata": {},
     "output_type": "execute_result"
    }
   ],
   "source": [
    "'string'[1]"
   ]
  },
  {
   "cell_type": "markdown",
   "metadata": {},
   "source": [
    "Why? The first item is at index 0. Many programming languages (Java, Javascript, PHP) start counting from 0 to indicate the first position, but this isn't always the case (MATLAB, Fortran, XPath/XQuery use index 1)."
   ]
  },
  {
   "cell_type": "markdown",
   "metadata": {},
   "source": [
    "Comparison operators: <, >, ==, !=, <=, >=\n",
    "\n",
    "Logic operators: and, or, not\n",
    "\n",
    "These operators return a true or false (boolean) result. "
   ]
  },
  {
   "cell_type": "code",
   "execution_count": 150,
   "metadata": {
    "scrolled": true
   },
   "outputs": [
    {
     "data": {
      "text/plain": [
       "True"
      ]
     },
     "execution_count": 150,
     "metadata": {},
     "output_type": "execute_result"
    }
   ],
   "source": [
    "30 > 5"
   ]
  },
  {
   "cell_type": "code",
   "execution_count": 151,
   "metadata": {
    "scrolled": true
   },
   "outputs": [
    {
     "data": {
      "text/plain": [
       "True"
      ]
     },
     "execution_count": 151,
     "metadata": {},
     "output_type": "execute_result"
    }
   ],
   "source": [
    "5 != 4"
   ]
  },
  {
   "cell_type": "markdown",
   "metadata": {},
   "source": [
    "What do you think will happen here:"
   ]
  },
  {
   "cell_type": "code",
   "execution_count": 152,
   "metadata": {
    "scrolled": true
   },
   "outputs": [
    {
     "data": {
      "text/plain": [
       "True"
      ]
     },
     "execution_count": 152,
     "metadata": {},
     "output_type": "execute_result"
    }
   ],
   "source": [
    "'3gh' == '3gh'"
   ]
  },
  {
   "cell_type": "markdown",
   "metadata": {},
   "source": [
    "What happens here?"
   ]
  },
  {
   "cell_type": "code",
   "execution_count": 153,
   "metadata": {
    "scrolled": true
   },
   "outputs": [
    {
     "data": {
      "text/plain": [
       "False"
      ]
     },
     "execution_count": 153,
     "metadata": {},
     "output_type": "execute_result"
    }
   ],
   "source": [
    "'3gh' == '4gh'"
   ]
  },
  {
   "cell_type": "markdown",
   "metadata": {},
   "source": [
    "Notice that we use the double equal sign ```==``` as a comparison to check equivalency. This is not the same thing as the single equal sign ```=```, which is the **assignment operator**.\n",
    "If you want to keep track of values, you can use the equal sign ```=``` to assign a variable. The variable is a named location that points to where a value is stored in memory."
   ]
  },
  {
   "cell_type": "code",
   "execution_count": 154,
   "metadata": {
    "collapsed": true,
    "scrolled": true
   },
   "outputs": [],
   "source": [
    "text = \"Scientific Computing\"\n",
    "number = 42\n",
    "pi_value = 3.1415"
   ]
  },
  {
   "cell_type": "markdown",
   "metadata": {},
   "source": [
    "Run that and these values are stored in memory. To recall the value, type its variable name"
   ]
  },
  {
   "cell_type": "code",
   "execution_count": 155,
   "metadata": {
    "scrolled": true
   },
   "outputs": [
    {
     "data": {
      "text/plain": [
       "3.1415"
      ]
     },
     "execution_count": 155,
     "metadata": {},
     "output_type": "execute_result"
    }
   ],
   "source": [
    "pi_value"
   ]
  },
  {
   "cell_type": "code",
   "execution_count": 156,
   "metadata": {
    "scrolled": true
   },
   "outputs": [
    {
     "data": {
      "text/plain": [
       "'Scientific Computing'"
      ]
     },
     "execution_count": 156,
     "metadata": {},
     "output_type": "execute_result"
    }
   ],
   "source": [
    "text"
   ]
  },
  {
   "cell_type": "markdown",
   "metadata": {},
   "source": [
    "You can also use print statements to display values. To create a print statement, you use Python's print() function. **Functions** are pieces of code that you can use and often reuse to perform specific tasks. Python has built in functions, such as print(), but you can also define and write your own and use them.\n",
    "\n",
    "Here is an example of using print() to print out the value of the variable:"
   ]
  },
  {
   "cell_type": "code",
   "execution_count": 157,
   "metadata": {
    "scrolled": true
   },
   "outputs": [
    {
     "name": "stdout",
     "output_type": "stream",
     "text": [
      "3.1415\n",
      "Scientific Computing\n",
      "42\n"
     ]
    }
   ],
   "source": [
    "print(pi_value)\n",
    "print(text)\n",
    "print(number)"
   ]
  },
  {
   "cell_type": "markdown",
   "metadata": {},
   "source": [
    "To use the function print(), you type in print and pass in an argument in the brackets. You can also use print() to pass in more than one argument, separated by commas:"
   ]
  },
  {
   "cell_type": "code",
   "execution_count": 158,
   "metadata": {
    "scrolled": true
   },
   "outputs": [
    {
     "name": "stdout",
     "output_type": "stream",
     "text": [
      "The value of pi_value is: 3.1415 \n",
      "My favourite number is 7 \n",
      "This is great\n"
     ]
    }
   ],
   "source": [
    "print(\"The value of pi_value is:\", pi_value, \"\\nMy favourite number is\", 3 + 4, \"\\nThis is great\")"
   ]
  },
  {
   "cell_type": "markdown",
   "metadata": {},
   "source": [
    "### Exercise 1\n",
    "\n",
    "a = \"hello\"\n",
    "\n",
    "b = \"world\"\n",
    "\n",
    "Print the following statement: \n",
    "\n",
    "hello world!\n",
    "\n",
    "Make sure to declare your variables in code"
   ]
  },
  {
   "cell_type": "code",
   "execution_count": 159,
   "metadata": {
    "collapsed": true,
    "scrolled": true
   },
   "outputs": [],
   "source": [
    "a = \"hello\"\n",
    "b = \"world\""
   ]
  },
  {
   "cell_type": "code",
   "execution_count": 160,
   "metadata": {
    "scrolled": true
   },
   "outputs": [
    {
     "name": "stdout",
     "output_type": "stream",
     "text": [
      "hello world!\n"
     ]
    }
   ],
   "source": [
    "helloworld = a + \" \" + b + \"!\"\n",
    "print(helloworld)"
   ]
  },
  {
   "cell_type": "markdown",
   "metadata": {},
   "source": [
    "In addition to using Python's built in functions we can design our own. Here is an example of a function that we've defined:"
   ]
  },
  {
   "cell_type": "code",
   "execution_count": 161,
   "metadata": {
    "collapsed": true,
    "scrolled": true
   },
   "outputs": [],
   "source": [
    "def f(x):\n",
    "    return x ** 2"
   ]
  },
  {
   "cell_type": "markdown",
   "metadata": {},
   "source": [
    "Notice how when you begin to name the function, and hit enter and begin to define the function, it is automatically indented. Indentation is very imprtant in Python, it's Python's way of marking a block of code.\n",
    "\n",
    "**def** is a keyword indicating that you are defining a function\n",
    "\n",
    "**f** is the name of the function\n",
    "\n",
    "**x** is the parameter of the function, it's a variable where the value will be supplied when the function is called (or run)\n",
    "\n",
    "**:** indicates the function definition and next line will be the body of the function\n",
    "\n",
    "**return x \\*\\* 2** is a return statement. It indicates that you're exiting a function and passing back an expression to the caller. \n",
    "\n",
    "Note: return or print statements are not mandatory in functions.\n",
    "Note2: Function names are case sensitive.\n",
    "\n",
    "To call function f, we pass in an argument value. This is akin to an assignment statement, where x = 3.\n"
   ]
  },
  {
   "cell_type": "code",
   "execution_count": 162,
   "metadata": {
    "scrolled": true
   },
   "outputs": [
    {
     "data": {
      "text/plain": [
       "9"
      ]
     },
     "execution_count": 162,
     "metadata": {},
     "output_type": "execute_result"
    }
   ],
   "source": [
    "f(3)"
   ]
  },
  {
   "cell_type": "markdown",
   "metadata": {},
   "source": [
    "With a return statement, when the function exists after passing the parameter 3 into the function, the value is passed back to the caller."
   ]
  },
  {
   "cell_type": "code",
   "execution_count": 163,
   "metadata": {
    "scrolled": true
   },
   "outputs": [
    {
     "data": {
      "text/plain": [
       "13"
      ]
     },
     "execution_count": 163,
     "metadata": {},
     "output_type": "execute_result"
    }
   ],
   "source": [
    "4 + f(3)"
   ]
  },
  {
   "cell_type": "markdown",
   "metadata": {},
   "source": [
    "With print(), the result is merely printed or displayed on screen:"
   ]
  },
  {
   "cell_type": "code",
   "execution_count": 164,
   "metadata": {
    "collapsed": true,
    "scrolled": true
   },
   "outputs": [],
   "source": [
    "def f(x):\n",
    "    print (x ** 2)"
   ]
  },
  {
   "cell_type": "markdown",
   "metadata": {},
   "source": [
    "What do you think is the result?"
   ]
  },
  {
   "cell_type": "code",
   "execution_count": 165,
   "metadata": {
    "scrolled": true
   },
   "outputs": [
    {
     "name": "stdout",
     "output_type": "stream",
     "text": [
      "9\n"
     ]
    },
    {
     "ename": "TypeError",
     "evalue": "unsupported operand type(s) for +: 'int' and 'NoneType'",
     "output_type": "error",
     "traceback": [
      "\u001b[0;31m---------------------------------------------------------------------------\u001b[0m",
      "\u001b[0;31mTypeError\u001b[0m                                 Traceback (most recent call last)",
      "\u001b[0;32m<ipython-input-165-e1b72e78fbd8>\u001b[0m in \u001b[0;36m<module>\u001b[0;34m()\u001b[0m\n\u001b[0;32m----> 1\u001b[0;31m \u001b[0;36m4\u001b[0m \u001b[0;34m+\u001b[0m \u001b[0mf\u001b[0m\u001b[0;34m(\u001b[0m\u001b[0;36m3\u001b[0m\u001b[0;34m)\u001b[0m\u001b[0;34m\u001b[0m\u001b[0m\n\u001b[0m",
      "\u001b[0;31mTypeError\u001b[0m: unsupported operand type(s) for +: 'int' and 'NoneType'"
     ]
    }
   ],
   "source": [
    "4 + f(3)"
   ]
  },
  {
   "cell_type": "markdown",
   "metadata": {},
   "source": [
    "You get an error message. These messages are useful because they will give you clues as to what went wrong when you try to run your program and will help you debug your program. Traceback to show you where the error 'exception' happened, then the error name in this case TypeError"
   ]
  },
  {
   "cell_type": "markdown",
   "metadata": {},
   "source": [
    "### Exercise 2\n",
    "\n",
    "Create a function that calculates the area of a triangle and lets you input the base and the height. Remember that \n",
    "area = 1/2 base * height\n"
   ]
  },
  {
   "cell_type": "code",
   "execution_count": null,
   "metadata": {
    "collapsed": true,
    "scrolled": true
   },
   "outputs": [],
   "source": [
    "def area_triangle(base,height):\n",
    "    area = 0.5*(base*height)\n",
    "    print(area)"
   ]
  },
  {
   "cell_type": "code",
   "execution_count": null,
   "metadata": {
    "collapsed": true,
    "scrolled": true
   },
   "outputs": [],
   "source": [
    "area_triangle(4,3)"
   ]
  },
  {
   "cell_type": "markdown",
   "metadata": {},
   "source": [
    "We just looked at some of Python's simple data types, operators, and functions in Python. Now we'll take a look at a few other data types that can be used to work with collections of data.\n",
    "\n",
    "**Lists** hold an ordered sequence of elements. The syntax for a list is to use an opening square bracket, comma-separated values, and a closing square bracket. Lists can hold different data types:"
   ]
  },
  {
   "cell_type": "code",
   "execution_count": null,
   "metadata": {
    "collapsed": true,
    "scrolled": false
   },
   "outputs": [],
   "source": [
    "my_list = ['one', 2, 'seven', 37.89, 2238.1, 'hungry', 'early']"
   ]
  },
  {
   "cell_type": "markdown",
   "metadata": {},
   "source": [
    "In this example, we are assigning the variable grades to a list."
   ]
  },
  {
   "cell_type": "code",
   "execution_count": 167,
   "metadata": {
    "collapsed": true,
    "scrolled": true
   },
   "outputs": [],
   "source": [
    "grades = [70, 85, 90]"
   ]
  },
  {
   "cell_type": "markdown",
   "metadata": {},
   "source": [
    "Like strings, each element in a list can be accessed by an index. Think of the index as a value or item's place in the list. What do you think you will get here:"
   ]
  },
  {
   "cell_type": "code",
   "execution_count": 168,
   "metadata": {
    "scrolled": true
   },
   "outputs": [
    {
     "data": {
      "text/plain": [
       "85"
      ]
     },
     "execution_count": 168,
     "metadata": {},
     "output_type": "execute_result"
    }
   ],
   "source": [
    "grades[1]"
   ]
  },
  {
   "cell_type": "code",
   "execution_count": 169,
   "metadata": {
    "scrolled": true
   },
   "outputs": [
    {
     "data": {
      "text/plain": [
       "[37.89, 2238.1, 'hungry', 'early']"
      ]
     },
     "execution_count": 169,
     "metadata": {},
     "output_type": "execute_result"
    }
   ],
   "source": [
    "my_list[3:]"
   ]
  },
  {
   "cell_type": "markdown",
   "metadata": {},
   "source": [
    "Several of Python's built-in functions can be applied to lists, including:\n",
    "\n",
    "len(list): return the length of list.\n",
    "min(list): return the smallest element in list.\n",
    "max(list): return the largest element in list.\n",
    "sum(list): return the sum of elements of list (where list items must be numeric)."
   ]
  },
  {
   "cell_type": "markdown",
   "metadata": {},
   "source": [
    "Lists are **mutable**, which means that they can be modified. For instance, we can update an item in the list:"
   ]
  },
  {
   "cell_type": "code",
   "execution_count": 170,
   "metadata": {
    "scrolled": true
   },
   "outputs": [
    {
     "data": {
      "text/plain": [
       "['1', 2, 'seven', 37.89, 2238.1, 'hungry', 'early']"
      ]
     },
     "execution_count": 170,
     "metadata": {},
     "output_type": "execute_result"
    }
   ],
   "source": [
    "my_list"
   ]
  },
  {
   "cell_type": "code",
   "execution_count": 171,
   "metadata": {
    "collapsed": true,
    "scrolled": true
   },
   "outputs": [],
   "source": [
    "my_list[0] = '1'"
   ]
  },
  {
   "cell_type": "code",
   "execution_count": 172,
   "metadata": {
    "scrolled": true
   },
   "outputs": [
    {
     "data": {
      "text/plain": [
       "['1', 2, 'seven', 37.89, 2238.1, 'hungry', 'early']"
      ]
     },
     "execution_count": 172,
     "metadata": {},
     "output_type": "execute_result"
    }
   ],
   "source": [
    "my_list"
   ]
  },
  {
   "cell_type": "markdown",
   "metadata": {},
   "source": [
    "\n",
    "We can also use Python's built-in functions for lists. These functions are called methods, because they are functions inside of an object, in this case a list object. To see a list of methods on an object, you can use the dir() function. Then for more information on how to use the method, use the help() function:"
   ]
  },
  {
   "cell_type": "code",
   "execution_count": 173,
   "metadata": {
    "scrolled": true
   },
   "outputs": [
    {
     "data": {
      "text/plain": [
       "['__add__',\n",
       " '__class__',\n",
       " '__contains__',\n",
       " '__delattr__',\n",
       " '__delitem__',\n",
       " '__dir__',\n",
       " '__doc__',\n",
       " '__eq__',\n",
       " '__format__',\n",
       " '__ge__',\n",
       " '__getattribute__',\n",
       " '__getitem__',\n",
       " '__gt__',\n",
       " '__hash__',\n",
       " '__iadd__',\n",
       " '__imul__',\n",
       " '__init__',\n",
       " '__iter__',\n",
       " '__le__',\n",
       " '__len__',\n",
       " '__lt__',\n",
       " '__mul__',\n",
       " '__ne__',\n",
       " '__new__',\n",
       " '__reduce__',\n",
       " '__reduce_ex__',\n",
       " '__repr__',\n",
       " '__reversed__',\n",
       " '__rmul__',\n",
       " '__setattr__',\n",
       " '__setitem__',\n",
       " '__sizeof__',\n",
       " '__str__',\n",
       " '__subclasshook__',\n",
       " 'append',\n",
       " 'clear',\n",
       " 'copy',\n",
       " 'count',\n",
       " 'extend',\n",
       " 'index',\n",
       " 'insert',\n",
       " 'pop',\n",
       " 'remove',\n",
       " 'reverse',\n",
       " 'sort']"
      ]
     },
     "execution_count": 173,
     "metadata": {},
     "output_type": "execute_result"
    }
   ],
   "source": [
    "dir(grades)"
   ]
  },
  {
   "cell_type": "code",
   "execution_count": 174,
   "metadata": {
    "scrolled": true
   },
   "outputs": [
    {
     "name": "stdout",
     "output_type": "stream",
     "text": [
      "Help on built-in function insert:\n",
      "\n",
      "insert(...) method of builtins.list instance\n",
      "    L.insert(index, object) -- insert object before index\n",
      "\n"
     ]
    }
   ],
   "source": [
    "help(grades.insert)"
   ]
  },
  {
   "cell_type": "code",
   "execution_count": 175,
   "metadata": {
    "scrolled": true
   },
   "outputs": [
    {
     "data": {
      "text/plain": [
       "[80, 70, 85, 90]"
      ]
     },
     "execution_count": 175,
     "metadata": {},
     "output_type": "execute_result"
    }
   ],
   "source": [
    "grades.insert(0,80)\n",
    "grades"
   ]
  },
  {
   "cell_type": "markdown",
   "metadata": {},
   "source": [
    "### Exercise 3\n",
    "\n",
    "Your list grades currently looks like: \n",
    "\n",
    "[80, 70 85, 90]\n",
    "\n",
    "Try and get your list to look like this:\n",
    "\n",
    "[70, 80, 90]\n",
    "\n",
    "Hint: You will need to use two list methods"
   ]
  },
  {
   "cell_type": "code",
   "execution_count": 176,
   "metadata": {
    "scrolled": true
   },
   "outputs": [
    {
     "data": {
      "text/plain": [
       "[80, 70, 85, 90]"
      ]
     },
     "execution_count": 176,
     "metadata": {},
     "output_type": "execute_result"
    }
   ],
   "source": [
    "grades"
   ]
  },
  {
   "cell_type": "code",
   "execution_count": 177,
   "metadata": {
    "scrolled": true
   },
   "outputs": [
    {
     "data": {
      "text/plain": [
       "[70, 80, 90]"
      ]
     },
     "execution_count": 177,
     "metadata": {},
     "output_type": "execute_result"
    }
   ],
   "source": [
    "grades = [80, 70, 85, 90]\n",
    "grades.remove(85)\n",
    "grades.sort()\n",
    "grades"
   ]
  },
  {
   "cell_type": "markdown",
   "metadata": {},
   "source": [
    "You can use **for** loops to list through items as well. Loops allow us to repeat a workflow (or series of actions) a given number of times or while some condition is true. We could use a loop to automatically process data that’s stored in multiple files (daily values with one file per year, for example). Loops lighten our work load by performing repeated tasks without our direct involvement and make it less likely that we’ll introduce errors by making mistakes while processing each file by hand. \n",
    "\n",
    "The line defining the loop must start with for and end with a colon, and the body of the loop must be indented."
   ]
  },
  {
   "cell_type": "code",
   "execution_count": 178,
   "metadata": {},
   "outputs": [
    {
     "name": "stdout",
     "output_type": "stream",
     "text": [
      "70\n",
      "80\n",
      "90\n"
     ]
    }
   ],
   "source": [
    "for item in grades:\n",
    "    print(item)"
   ]
  },
  {
   "cell_type": "markdown",
   "metadata": {},
   "source": [
    "for - keyword indicating that you are using a for loop\n",
    "\n",
    "item - variable name used to represent an item in a sequence\n",
    "\n",
    "in - object you are iterating over, such as a string or list\n",
    "\n",
    "grades - the sequence. in this case, variable name for the list\n",
    "\n",
    "print(item) - body"
   ]
  },
  {
   "cell_type": "markdown",
   "metadata": {},
   "source": [
    "### Exercise 4\n",
    "\n",
    "my_first_list = ['orange', 'kiwi']\n",
    "\n",
    "my_second_list = ['apple', 'banana']\n",
    "\n",
    "Write a function that will add every item from my_first_list to my_second_list and will sort them alphabetically.\n"
   ]
  },
  {
   "cell_type": "code",
   "execution_count": 1,
   "metadata": {
    "collapsed": true
   },
   "outputs": [],
   "source": [
    "def new_list_magic(original_list, new_list):\n",
    "    for item in original_list:\n",
    "        new_list.append(item)\n",
    "        new_list.sort()\n",
    "    print(new_list)"
   ]
  },
  {
   "cell_type": "code",
   "execution_count": 2,
   "metadata": {},
   "outputs": [
    {
     "name": "stdout",
     "output_type": "stream",
     "text": [
      "['apple', 'banana', 'kiwi', 'orange']\n"
     ]
    }
   ],
   "source": [
    "my_first_list = ['orange', 'kiwi']\n",
    "my_second_list = ['apple', 'banana']\n",
    "new_list_magic(my_first_list, my_second_list)"
   ]
  },
  {
   "cell_type": "markdown",
   "metadata": {},
   "source": [
    "# To be continued ... see you next Tuesday!\n",
    "\n",
    "Tuples\n",
    "\n",
    "Dictionaries\n",
    "\n",
    "Conditional statements\n",
    "\n",
    "if elif else\n",
    "for\n",
    "while"
   ]
  },
  {
   "cell_type": "markdown",
   "metadata": {},
   "source": [
    "### Exercise 4\n",
    "\n",
    "https://www.coursera.org/learn/learn-to-program/programming/qdDGH/assignment-1-time-zones"
   ]
  },
  {
   "cell_type": "markdown",
   "metadata": {},
   "source": [
    "### Exercise 5\n",
    "\n",
    "https://www.coursera.org/learn/learn-to-program/programming/IO1Gh/assignment-3"
   ]
  },
  {
   "cell_type": "markdown",
   "metadata": {
    "collapsed": true
   },
   "source": [
    "## Summary\n",
    "\n",
    "### Built-in data types\n",
    "\n",
    "#### Variable types\n",
    "\n",
    "Strings\n",
    "\n",
    "Integers\n",
    "\n",
    "Floats\n",
    "\n",
    "#### Sequential types\n",
    "\n",
    "Lists\n",
    "\n",
    "Tuples\n",
    "\n",
    "Dictionaries\n",
    "\n",
    "#### Operators\n",
    "\n",
    "Arithmetic\n",
    "\n",
    "Comparison\n",
    "\n",
    "Logic\n",
    "\n",
    "#### Conditionals\n",
    "\n",
    "If statements\n",
    "\n",
    "For loops\n",
    "\n",
    "While\n",
    "\n",
    "#### Functions\n",
    "\n",
    "Built-in functions\n",
    "\n",
    "Defining functions\n",
    "\n",
    "#### Syntax\n",
    "\n",
    "Lines and indentation\n",
    "\n",
    "help()\n",
    "\n",
    "dir(object) to get methods (functions inside objects). e.g. if object was a string object\n",
    "\n",
    "Comments"
   ]
  },
  {
   "cell_type": "code",
   "execution_count": null,
   "metadata": {
    "collapsed": true,
    "scrolled": true
   },
   "outputs": [],
   "source": []
  }
 ],
 "metadata": {
  "kernelspec": {
   "display_name": "Python 3",
   "language": "python",
   "name": "python3"
  },
  "language_info": {
   "codemirror_mode": {
    "name": "ipython",
    "version": 3
   },
   "file_extension": ".py",
   "mimetype": "text/x-python",
   "name": "python",
   "nbconvert_exporter": "python",
   "pygments_lexer": "ipython3",
   "version": "3.5.1"
  }
 },
 "nbformat": 4,
 "nbformat_minor": 2
}
